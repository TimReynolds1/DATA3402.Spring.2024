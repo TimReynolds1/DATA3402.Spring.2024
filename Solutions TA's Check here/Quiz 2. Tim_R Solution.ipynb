{
 "cells": [
  {
   "cell_type": "markdown",
   "id": "0f2bde2a-67d0-4bbd-8d35-07aebeebafdc",
   "metadata": {},
   "source": [
    "# *Quiz 2*\r",
    "### \n",
    "Write a function make_deck that returns a list of all of the cards in a standard card deck. The return should be a list of tuples of pairs of suit and value. For example the 10 of Clubs would be ('Clubs', 10) and Queen of Hearts would be ('Hearts', 'Queen'). Recall that a deck has 52 cards, divided into 4 suits (Clubs, Diamonds, Hearts, and Spades), and that each suit has 13 cards: 2 to 10, Jack, Queen, King, and Ace. Summit your solution with Lab 2."
   ]
  },
  {
   "cell_type": "code",
   "execution_count": 12,
   "id": "9e81fd65-1391-48b6-96ea-ffbc8389135b",
   "metadata": {},
   "outputs": [
    {
     "name": "stdout",
     "output_type": "stream",
     "text": [
      "[('Ace', 'of', 'Clubs'), (2, 'of', 'Clubs'), (3, 'of', 'Clubs'), (4, 'of', 'Clubs'), (5, 'of', 'Clubs'), (6, 'of', 'Clubs'), (7, 'of', 'Clubs'), (8, 'of', 'Clubs'), (9, 'of', 'Clubs'), (10, 'of', 'Clubs'), ('Jack', 'of', 'Clubs'), ('Queen', 'of', 'Clubs'), ('King', 'of', 'Clubs'), ('Ace', 'of', 'Diamonds'), (2, 'of', 'Diamonds'), (3, 'of', 'Diamonds'), (4, 'of', 'Diamonds'), (5, 'of', 'Diamonds'), (6, 'of', 'Diamonds'), (7, 'of', 'Diamonds'), (8, 'of', 'Diamonds'), (9, 'of', 'Diamonds'), (10, 'of', 'Diamonds'), ('Jack', 'of', 'Diamonds'), ('Queen', 'of', 'Diamonds'), ('King', 'of', 'Diamonds'), ('Ace', 'of', 'Hearts'), (2, 'of', 'Hearts'), (3, 'of', 'Hearts'), (4, 'of', 'Hearts'), (5, 'of', 'Hearts'), (6, 'of', 'Hearts'), (7, 'of', 'Hearts'), (8, 'of', 'Hearts'), (9, 'of', 'Hearts'), (10, 'of', 'Hearts'), ('Jack', 'of', 'Hearts'), ('Queen', 'of', 'Hearts'), ('King', 'of', 'Hearts'), ('Ace', 'of', 'Spades'), (2, 'of', 'Spades'), (3, 'of', 'Spades'), (4, 'of', 'Spades'), (5, 'of', 'Spades'), (6, 'of', 'Spades'), (7, 'of', 'Spades'), (8, 'of', 'Spades'), (9, 'of', 'Spades'), (10, 'of', 'Spades'), ('Jack', 'of', 'Spades'), ('Queen', 'of', 'Spades'), ('King', 'of', 'Spades')]\n"
     ]
    }
   ],
   "source": [
    "class make_deck:\n",
    "    def __init__(self, suits, cards):\n",
    "        self.suits = suits\n",
    "        self.cards = cards\n",
    "        \n",
    "    def list_cards(self):\n",
    "        return [(card, \"of\", suit) for suit in self.suits for card in self.cards]\n",
    "\n",
    "suits = (\"Clubs\", \"Diamonds\", \"Hearts\", \"Spades\")\n",
    "cards = (\"Ace\", 2, 3, 4, 5, 6, 7, 8, 9, 10, \"Jack\", \"Queen\", \"King\")\n",
    "\n",
    "regular_deck = make_deck(suits, cards)\n",
    "cards_list = regular_deck.list_cards()\n",
    "print(cards_list)"
   ]
  },
  {
   "cell_type": "code",
   "execution_count": null,
   "id": "513f2347-7211-438b-96f9-40783c750797",
   "metadata": {},
   "outputs": [],
   "source": []
  },
  {
   "cell_type": "code",
   "execution_count": null,
   "id": "b00255d5-4539-4940-b0ea-a1164e957d3b",
   "metadata": {},
   "outputs": [],
   "source": []
  }
 ],
 "metadata": {
  "kernelspec": {
   "display_name": "Python 3 (ipykernel)",
   "language": "python",
   "name": "python3"
  },
  "language_info": {
   "codemirror_mode": {
    "name": "ipython",
    "version": 3
   },
   "file_extension": ".py",
   "mimetype": "text/x-python",
   "name": "python",
   "nbconvert_exporter": "python",
   "pygments_lexer": "ipython3",
   "version": "3.8.10"
  }
 },
 "nbformat": 4,
 "nbformat_minor": 5
}
