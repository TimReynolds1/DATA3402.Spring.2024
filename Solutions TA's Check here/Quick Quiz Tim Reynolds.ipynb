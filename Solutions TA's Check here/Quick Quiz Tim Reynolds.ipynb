{
 "cells": [
  {
   "cell_type": "markdown",
   "id": "f39836b1-c5d8-4bad-89b1-7e0136e60544",
   "metadata": {},
   "source": [
    "# **Quick Quiz**"
   ]
  },
  {
   "cell_type": "markdown",
   "id": "7fc6a13a-d75e-4370-9d7b-6c122f544391",
   "metadata": {},
   "source": [
    "### Tim Reynolds"
   ]
  },
  {
   "cell_type": "code",
   "execution_count": 4,
   "id": "a56c9930-55f2-42ca-bea1-155e90bd6dd5",
   "metadata": {},
   "outputs": [],
   "source": [
    "def create_new_args_0(args):\n",
    "    max_len =max(map(len,\n",
    "                     filter(lambda x: isinstance(x,list),\n",
    "                            args)))\n",
    "    #Re-written Section:\n",
    "    def pro_args(a):\n",
    "        return a if isinstance(a, list) and len(a) == max_len else [a] * max_len\n",
    "\n",
    "    new_args =[pro_args(a) for a in args]\n",
    "\n",
    "    return new_args"
   ]
  },
  {
   "cell_type": "code",
   "execution_count": 6,
   "id": "9763998a-eea2-479d-8632-32836de214f4",
   "metadata": {},
   "outputs": [
    {
     "data": {
      "text/plain": [
       "[[1, 2], [3, 4], [5, 5]]"
      ]
     },
     "execution_count": 6,
     "metadata": {},
     "output_type": "execute_result"
    }
   ],
   "source": [
    "create_new_args_0([[1,2],[3,4],5])"
   ]
  },
  {
   "cell_type": "code",
   "execution_count": null,
   "id": "369c6932-8928-4476-8b9a-280fd9125334",
   "metadata": {},
   "outputs": [],
   "source": []
  }
 ],
 "metadata": {
  "kernelspec": {
   "display_name": "Python 3 (ipykernel)",
   "language": "python",
   "name": "python3"
  },
  "language_info": {
   "codemirror_mode": {
    "name": "ipython",
    "version": 3
   },
   "file_extension": ".py",
   "mimetype": "text/x-python",
   "name": "python",
   "nbconvert_exporter": "python",
   "pygments_lexer": "ipython3",
   "version": "3.8.10"
  }
 },
 "nbformat": 4,
 "nbformat_minor": 5
}
