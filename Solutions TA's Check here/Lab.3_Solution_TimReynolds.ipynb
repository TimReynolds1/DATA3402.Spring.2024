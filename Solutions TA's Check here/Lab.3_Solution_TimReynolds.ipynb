{
 "cells": [
  {
   "cell_type": "markdown",
   "metadata": {},
   "source": [
    "# Lab 3\n",
    "\n",
    "In this lab we will become familiar with distributions, histograms, and functional programming. Do not use numpy or any other library for this lab.\n",
    "\n",
    "Before that, lets get setup homework submission and submit your previous lab.  \n",
    "\n",
    "## Working on the Command-line.\n",
    "\n",
    "It is important for you to learn to work on the command line and to be familiar with the Unix environment (e.g. Linux, Mac OS, or Windows Linux Subsystem). We'll go over working on the command-line in detail later in the course.\n",
    "\n",
    "You are required to submit your work in this course via GitHub. Today in class, you will setup everything on the command-line.\n",
    "\n",
    "### Command-line basics\n",
    "\n",
    "There is plenty of material online that will help you figure out how to do various tasks on the command line. Commands you may need to know today:\n",
    "\n",
    "* `ls`: lists the contents of the current directory.\n",
    "* `pwd`: prints the path of the current directory.\n",
    "* `cd <directory>`: changes your current directory to the specified directory.\n",
    "* `cd ..`: changes current directory to the previous directory. Basically steps out of the current directory to the directory containing the current directory.\n",
    "* `mkdir <directory>`: create a new directory with the specified name.\n",
    "* `rmdir <directory>`: removes the specified directory. Note it has to be empty.\n",
    "* `rm <filename>`: deletes the specified file.\n",
    "* `mv <filename 1> <filename 1>`: Moves or renames a file.\n",
    "* `cp <filename 1> <filename 2>`: copies an file. If you just provide a path to a directory, it copies the file into that directory with the same filename. If you specifiy a new filename, the copy has a new name. For example `cp File.1.txt File.2.txt` creates a copy of `File.1.txt` with the name `File.2.txt`. Meanwhile `cp File.1.txt my_directory`, where `my_directory` is a directory, creates a copy of `File.1.txt` in directory `my_directory` with the name `File.1.txt`.\n",
    "\n",
    "For reference, here are some example resources I found by googling:\n",
    "\n",
    "* Paths and Wildcards: https://www.warp.dev/terminus/linux-wildcards\n",
    "* Basic commands like copy: https://kb.iu.edu/d/afsk\n",
    "* General introduction to shell: https://github-pages.ucl.ac.uk/RCPSTrainingMaterials/HPCandHTCusingLegion/2_intro_to_shell.html\n",
    "* Manual pages: https://www.geeksforgeeks.org/linux-man-page-entries-different-types/?ref=ml_lbp\n",
    "* Chaining commands: https://www.geeksforgeeks.org/chaining-commands-in-linux/?ref=ml_lbp\n",
    "* Piping: https://www.geeksforgeeks.org/piping-in-unix-or-linux/\n",
    "* Using sed: https://www.geeksforgeeks.org/sed-command-linux-set-2/?ref=ml_lbp\n",
    "* Various Unix commands: https://www.geeksforgeeks.org/linux-commands/?ref=lbp\n",
    "* Cheat sheets:\n",
    "    * https://www.stationx.net/unix-commands-cheat-sheet/\n",
    "    * https://cheatography.com/davechild/cheat-sheets/linux-command-line/\n",
    "    * https://www.theknowledgeacademy.com/blog/unix-commands-cheat-sheet/\n",
    "    \n",
    "These aren't necessarily the best resources. Feel free to search for better ones. Also, don't forget that Unix has built-in manual pages for all of its commands. Just type `man <command>` at the command prompt. Use the space-bar to scroll through the documentation and \"q\" to exit.\n",
    "\n",
    "\n",
    "### Setup and Submission\n",
    "\n",
    "Our course repository is public. The instructions here aim to have you setup a fork of the course repository. Unfortunately because you are forking a public repo, your fork will have to be public also. \n",
    "\n",
    "You should be familiar with git from the first semester of this course. I assume that you all have github accounts and have setup things to be able to [push to github using ssh](https://docs.github.com/en/github/authenticating-to-github/connecting-to-github-with-ssh). The instuctions here lead you to:\n",
    "\n",
    "We'll overview what you will do before going through step by step instructions.\n",
    "\n",
    "1. Setup:\n",
    "    1. Fork the class repository. Some directions in [fork-a-repo](https://docs.github.com/en/github/getting-started-with-github/fork-a-repo).\n",
    "    1. Create a directory on your personal system where you will keep all course materials.\n",
    "    1. In that directory, clone your fork of the repository.\n",
    "    1. Using `git remote`, set the upstream to be the class repo, so you can pull from the class and push to your fork.\n",
    "\n",
    "1. Submission:\n",
    "    1. Copy your solutions into the appropriate directory (e.g. into `Labs/Lab.2/`) and with appropriate filename `Lab.2.solution.ipynb'.\n",
    "    1. Commit / push your solutions.\n",
    "    1. Grant access to course instructors.\n",
    "\n",
    "Below are step by step instructions with examples (including example directory naming convention). Feel free to modify things as you see fit. \n",
    "\n",
    "#### Setup\n",
    "You should only need to follow this instructions once. Here are some useful git commands:\n",
    "\n",
    "* Git help: `git help`\n",
    "* Git remote help: `git help remote`\n",
    "* Check remote status: `git remote -v`\n",
    "* Add a remote: `git remote add <stream name> <repo URL>`\n",
    "* Add a remove: `git remote remove <stream name>`\n",
    "\n",
    "Steps:\n",
    "1. In a browser, log into GitHub and navigate to the [course repository](https://github.com/UTA-DataScience/DATA3402.Spring.2024).\n",
    "1. On the top right of the page, press the fork button to create a new fork into your own GitHub account.\n",
    "1. After successful fork, you should find the browser showing your fork of the course repository. Use the green \"Code\" button to copy path to the repo into your the clipboard of your computer.\n",
    "1. Open a shell on your personal computer.\n",
    "1. If you have not done so already, create a new directory/folder where you will keep all course material to navigate to it. For example: `mkdir Data-3402` and `cd Data-3402`.\n",
    "1. Clone your fork of the repository using `git clone` followed by the path you copied into your clipboard. (copy/paste)\n",
    "1. Paste the URL to your fork in the worksheet for the TAs and instructors.\n",
    "1. Now go into the directory of your clone (`cd DATA3402.Spring.2024`).\n",
    "1. Type `git remote -v` to see the current setup for fetch and pull.\n",
    "1. Note the URL you see. This should be the same as what you used for your clone for both push and fetch.\n",
    "1. Delete the origin remote using `git remote remove origin`.\n",
    "1. Add the course repo as your remote using `git remote add origin https://github.com/UTA-DataScience/DATA3402.Spring.2024.git`.\n",
    "1. Change the push to point to your fork. This means you will need the URL to your clone we copied earlier and confirmed as the original origin. The command will look something like: `git remote set-url --push origin  https://github.com/XXXXXX/DATA3402.Spring.2024.git`, where XXXXX is your username on GitHub.\n",
    "1. Note that if you setup everything correctly, you now should be able to do `git pull` to get updates from the course repo, and do `git push` to push your commits into your own fork.\n",
    "\n",
    "### Submission\n",
    "These instructions outline how you submit files. Some useful commands:\n",
    "* To add a file to local repository: `git add <file>`.\n",
    "* To commit all changed files into local repository: `git -a -m \"A message\"`. You need to provide some comment when you commit. \n",
    "* To push the commited files from the local repository to GitHub: `git push`.\n",
    "* To get updates from GitHub: `git pull`.\n",
    "\n",
    "Steps:\n",
    "1. To submit your labs, navigate to your clone of your fork of the course repository. \n",
    "1. Use `git pull` to make sure you have the latest updates. \n",
    "1. Make sure your copy of the lab your are working on is in the appropriate place in this clone. That means if you have the file elsewhere, copy it to the same directory in your clone of your fork. \n",
    "1. Note that in order to avoid future conflicts, you should always name your solution differently than the original file in the class repo. For example if your file is still named `Lab.2.ipynb` you should rename it using the `mv` command: `mv Lab.2.ipynb Lab.2.solution.ipynb`. \n",
    "1. Add and files you wish to submit into the repo. For example: `git add Labs/Lab.2/Lab.2.solution.ipynb`\n",
    "1. Commit any changes: `git commit -a -m \"Lab 2 updates\"`\n",
    "1. Push your changes: `git push`\n",
    "1. Check on github website that your solutions have been properly submitted.\n",
    "\n",
    "Before you leave the session today, submit your Lab.2 solution as is now to make sure you can do it. If you need to work further on your lab, navigate jupyter to the copy of the lab you just submitted and work there. Once done, repeat the commit and push commands to submit your updated solution. Note that lab 2 is due by midnight today (Friday 2/9/2024).\n"
   ]
  },
  {
   "cell_type": "markdown",
   "metadata": {},
   "source": [
    "### Uniform Distribution\n",
    "Lets start with generating some fake random data. You can get a random number between 0 and 1 using the python random module as follow:"
   ]
  },
  {
   "cell_type": "code",
   "execution_count": 8,
   "metadata": {},
   "outputs": [
    {
     "name": "stdout",
     "output_type": "stream",
     "text": [
      "The Value of x is 0.8332480968078713\n"
     ]
    }
   ],
   "source": [
    "import random\n",
    "x=random.random()\n",
    "print(\"The Value of x is\", x)"
   ]
  },
  {
   "cell_type": "markdown",
   "metadata": {},
   "source": [
    "Everytime you call random, you will get a new number.\n",
    "\n",
    "*Exercise 1:* Using random, write a function `generate_uniform(N, mymin, mymax)`, that returns a python list containing N random numbers between specified minimum and maximum value. Note that you may want to quickly work out on paper how to turn numbers between 0 and 1 to between other values. "
   ]
  },
  {
   "cell_type": "code",
   "execution_count": 9,
   "metadata": {},
   "outputs": [],
   "source": [
    "# Skeleton\n",
    "def generate_uniform(N,x_min,x_max):\n",
    "    out = []\n",
    "    ### BEGIN SOLUTION\n",
    "    for a in range(N):\n",
    "        x =random.random()\n",
    "        my_number = x_min + (x_max - x_min) * x\n",
    "        out.append(my_number)\n",
    "    ### END SOLUTION\n",
    "    return out"
   ]
  },
  {
   "cell_type": "code",
   "execution_count": 10,
   "metadata": {},
   "outputs": [
    {
     "name": "stdout",
     "output_type": "stream",
     "text": [
      "[22.870540240805596, 73.2136142984244, 37.70919958737386, 60.87802960937773, 44.6347720424098, 50.32961653252874, 74.86460811065513, 28.738465593456063, 35.87509008212791, 51.21977960656005]\n",
      "Data Type: <class 'list'>\n",
      "Data Length: 1000\n",
      "Type of Data Contents: <class 'float'>\n",
      "Data Minimum: -9.946786066994997\n",
      "Data Maximum: 9.988141622705136\n"
     ]
    }
   ],
   "source": [
    "# Test your solution here\n",
    "test = generate_uniform(10, 21, 75)\n",
    "print(test)\n",
    "data=generate_uniform(1000,-10,10)\n",
    "print (\"Data Type:\", type(data))\n",
    "print (\"Data Length:\", len(data))\n",
    "if len(data)>0: \n",
    "    print (\"Type of Data Contents:\", type(data[0]))\n",
    "    print (\"Data Minimum:\", min(data))\n",
    "    print (\"Data Maximum:\", max(data))"
   ]
  },
  {
   "cell_type": "markdown",
   "metadata": {},
   "source": [
    "*Exercise 2a:* \n",
    "Write a function that computes the mean of values in a list. Recall the equation for the mean of a random variable $\\bf{x}$ computed on a data set of $n$ values $\\{ x_i \\} = \\{x_1, x_2, ..., x_n\\}$  is ${\\bf\\bar{x}} = \\frac{1}{n} \\sum_i^n x_i$."
   ]
  },
  {
   "cell_type": "code",
   "execution_count": 11,
   "metadata": {},
   "outputs": [],
   "source": [
    "# Skeleton\n",
    "def mean(Data):\n",
    "    m=0.\n",
    "    \n",
    "    ### BEGIN SOLUTION\n",
    "    m = sum(Data) / len(Data)\n",
    "    ### END SOLUTION\n",
    "    \n",
    "    return m"
   ]
  },
  {
   "cell_type": "code",
   "execution_count": 13,
   "metadata": {},
   "outputs": [
    {
     "name": "stdout",
     "output_type": "stream",
     "text": [
      "Mean of Data: 0.26229969637595496\n"
     ]
    }
   ],
   "source": [
    "# Test your solution here\n",
    "print (\"Mean of Data:\", mean(data))"
   ]
  },
  {
   "cell_type": "markdown",
   "metadata": {},
   "source": [
    "*Exercise 2b:* \n",
    "Write a function that computes the variance of values in a list. Recall the equation for the variance of a random variable $\\bf{x}$ computed on a data set of $n$ values $\\{ x_i \\} = \\{x_1, x_2, ..., x_n\\}$  is ${\\bf\\langle x \\rangle} = \\frac{1}{n} \\sum_i^n (x_i - {\\bf\\bar{x}})$."
   ]
  },
  {
   "cell_type": "code",
   "execution_count": 21,
   "metadata": {},
   "outputs": [],
   "source": [
    "# Skeleton\n",
    "def variance(Data):\n",
    "    m=0.\n",
    "    \n",
    "    ### BEGIN SOLUTION\n",
    "    mean_value = mean(Data)\n",
    "    sqr_dev = [(x-mean_value)**2 for x in Data]\n",
    "    m = sum(sqr_dev) / len(Data)\n",
    "    ### END SOLUTION\n",
    "    \n",
    "    return m"
   ]
  },
  {
   "cell_type": "code",
   "execution_count": 22,
   "metadata": {},
   "outputs": [
    {
     "name": "stdout",
     "output_type": "stream",
     "text": [
      "Variance of Data: 34.00001425096691\n"
     ]
    }
   ],
   "source": [
    "# Test your solution here\n",
    "print (\"Variance of Data:\", variance(data))"
   ]
  },
  {
   "cell_type": "markdown",
   "metadata": {},
   "source": [
    "## Histogramming"
   ]
  },
  {
   "cell_type": "markdown",
   "metadata": {},
   "source": [
    "*Exercise 3:* Write a function that bins the data so that you can create a histogram. An example of how to implement histogramming is the following logic:\n",
    "\n",
    "* User inputs a list of values `x` and optionally `n_bins` which defaults to 10.\n",
    "* If not supplied, find the minimum and maximum (`x_min`,`x_max`) of the values in x.\n",
    "* Determine the bin size (`bin_size`) by dividing the range of the function by the number of bins.\n",
    "* Create an empty list of zeros of size `n_bins`, call it `hist`.\n",
    "* Loop over the values in `x`\n",
    "    * Loop over the values in `hist` with index `i`:\n",
    "        * If x is between `x_min+i*bin_size` and `x_min+(i+1)*bin_size`, increment `hist[i].` \n",
    "        * For efficiency, try to use continue to goto the next bin and data point.\n",
    "* Return `hist` and the list corresponding of the bin edges (i.e. of `x_min+i*bin_size`).    "
   ]
  },
  {
   "cell_type": "code",
   "execution_count": 31,
   "metadata": {},
   "outputs": [],
   "source": [
    "# Solution\n",
    "def histogram(x,n_bins=10,x_min=None,x_max=None):\n",
    "    ### BEGIN SOLUTION\n",
    "    if x_min is None:\n",
    "        x_min = min(x)\n",
    "    if x_max is None:\n",
    "        x_max = max(x)\n",
    "    bin_it = (x_max - x_min) / n_bins\n",
    "    hist = [0] * n_bins\n",
    "    for taco in x:\n",
    "        bin_index = int((taco - x_min) / bin_it)\n",
    "        if 0 <= bin_index < n_bins:\n",
    "            hist[bin_index] += 1\n",
    "\n",
    "    bin_edges = [x_min + i * bin_it for i in range(n_bins +1)] \n",
    "    ### END SOLUTION\n",
    "\n",
    "    return hist,bin_edges"
   ]
  },
  {
   "cell_type": "code",
   "execution_count": 43,
   "metadata": {},
   "outputs": [
    {
     "name": "stdout",
     "output_type": "stream",
     "text": [
      "[17, 20, 14, 17, 20, 21, 21, 17, 27, 18, 25, 19, 22, 17, 23, 18, 18, 11, 16, 25, 18, 25, 21, 20, 17, 21, 17, 25, 21, 18, 20, 13, 15, 19, 25, 19, 19, 20, 20, 24, 14, 15, 25, 20, 26, 22, 19, 27, 25, 23]\n",
      "[-9.946786066994997, -9.548087513200995, -9.149388959406991, -8.750690405612989, -8.351991851818987, -7.953293298024985, -7.5545947442309815, -7.155896190436978, -6.757197636642976, -6.358499082848974, -5.959800529054971, -5.561101975260968, -5.162403421466966, -4.763704867672963, -4.36500631387896, -3.9663077600849572, -3.567609206290955, -3.168910652496953, -2.7702120987029497, -2.3715135449089466, -1.9728149911149444, -1.5741164373209422, -1.1754178835269382, -0.776719329732936, -0.3780207759389338, 0.020677777855068413, 0.4193763316490706, 0.8180748854430746, 1.2167734392370768, 1.615471993031079, 2.014170546825083, 2.412869100619085, 2.8115676544130874, 3.2102662082070896, 3.608964762001092, 4.007663315795096, 4.406361869589098, 4.8050604233831, 5.203758977177104, 5.602457530971106, 6.001156084765109, 6.399854638559111, 6.798553192353113, 7.197251746147115, 7.595950299941121, 7.994648853735123, 8.393347407529125, 8.792045961323128, 9.19074451511713, 9.589443068911132, 9.988141622705134]\n"
     ]
    }
   ],
   "source": [
    "# Test your solution here\n",
    "hist,bin_edges=histogram(data,50)\n",
    "print(hist)\n",
    "print(bin_edges)"
   ]
  },
  {
   "cell_type": "markdown",
   "metadata": {},
   "source": [
    "*Exercise 4:* Write a function that uses the histogram function in the previous exercise to create a text-based \"graph\". For example the output could look like the following:\n",
    "```\n",
    "[  0,  1] : ######\n",
    "[  1,  2] : #####\n",
    "[  2,  3] : ######\n",
    "[  3,  4] : ####\n",
    "[  4,  5] : ####\n",
    "[  5,  6] : ######\n",
    "[  6,  7] : #####\n",
    "[  7,  8] : ######\n",
    "[  8,  9] : ####\n",
    "[  9, 10] : #####\n",
    "```\n",
    "\n",
    "Where each line corresponds to a bin and the number of `#`'s are proportional to the value of the data in the bin. "
   ]
  },
  {
   "cell_type": "code",
   "execution_count": 56,
   "metadata": {},
   "outputs": [],
   "source": [
    "# Solution\n",
    "def draw_histogram(x,n_bins,x_min=None,x_max=None,character=\"#\",max_character_per_line=20):\n",
    "    ### BEGIN SOLUTION\n",
    "    if x_min is None:\n",
    "        x_min = min(x)\n",
    "    if x_max is None:\n",
    "        x_max = max(x)\n",
    "    bin_size = (x_max - x_min) / n_bins\n",
    "    bin_edges = [round(i * bin_size + x_min) for i in range(n_bins + 1)]\n",
    "    hist, a = histogram(x, n_bins, x_min=0, x_max=10)\n",
    "\n",
    "    for i in range(len(hist)):\n",
    "        bin_range = f\"[{bin_edges[i]}, {bin_edges[i+1]}]\"\n",
    "        bar = character*hist[i]\n",
    "        print(f\"{bin_range} : {bar[:max_character_per_line]}\")\n",
    "    ### END SOLUTION\n",
    "\n",
    "    return hist,bin_edges"
   ]
  },
  {
   "cell_type": "code",
   "execution_count": 57,
   "metadata": {},
   "outputs": [
    {
     "name": "stdout",
     "output_type": "stream",
     "text": [
      "[-10, -9] : ####################\n",
      "[-9, -8] : ####################\n",
      "[-8, -7] : ####################\n",
      "[-7, -6] : ####################\n",
      "[-6, -5] : ####################\n",
      "[-5, -4] : ##################\n",
      "[-4, -3] : ####################\n",
      "[-3, -2] : ####################\n",
      "[-2, -1] : ####################\n",
      "[-1, 0] : ####################\n",
      "[0, 1] : ####################\n",
      "[1, 2] : ####################\n",
      "[2, 3] : #################\n",
      "[3, 4] : ####################\n",
      "[4, 5] : ####################\n",
      "[5, 6] : ####################\n",
      "[6, 7] : ####################\n",
      "[7, 8] : ####################\n",
      "[8, 9] : ####################\n",
      "[9, 10] : ####################\n"
     ]
    },
    {
     "data": {
      "text/plain": [
       "([48,\n",
       "  29,\n",
       "  26,\n",
       "  24,\n",
       "  24,\n",
       "  18,\n",
       "  20,\n",
       "  30,\n",
       "  22,\n",
       "  29,\n",
       "  24,\n",
       "  26,\n",
       "  17,\n",
       "  28,\n",
       "  25,\n",
       "  32,\n",
       "  26,\n",
       "  27,\n",
       "  36,\n",
       "  27],\n",
       " [-10, -9, -8, -7, -6, -5, -4, -3, -2, -1, 0, 1, 2, 3, 4, 5, 6, 7, 8, 9, 10])"
      ]
     },
     "execution_count": 57,
     "metadata": {},
     "output_type": "execute_result"
    }
   ],
   "source": [
    "# Test your solution here\n",
    "draw_histogram(data, 20)"
   ]
  },
  {
   "cell_type": "markdown",
   "metadata": {},
   "source": [
    "## Functional Programming\n",
    "\n",
    "*Exercise 5:* Write a function the applies a booling function (that returns true/false) to every element in data, and return a list of indices of elements where the result was true. Use this function to find the indices of entries greater than 0.5. "
   ]
  },
  {
   "cell_type": "code",
   "execution_count": 59,
   "metadata": {},
   "outputs": [],
   "source": [
    "def where(mylist,myfunc):\n",
    "    out= []\n",
    "    \n",
    "    ### BEGIN SOLUTION\n",
    "    out = [myfunc(element) for element in mylist]\n",
    "    ### END SOLUTION\n",
    "    \n",
    "    return out"
   ]
  },
  {
   "cell_type": "code",
   "execution_count": 62,
   "metadata": {},
   "outputs": [
    {
     "name": "stdout",
     "output_type": "stream",
     "text": [
      "[-5.811439662828651, -8.227370036191708, 5.510122728380129, 9.878344560021905, -5.067461350949694, 6.00115089931899, -7.977349970348144, 2.872815812535814, 9.20887482453464, -2.6406384097235325, -1.011860430296652, -3.027512052317906, -1.4446475550056022, -5.589496312214475, -2.171403640745595, 9.774701759975684, 3.392654339089429, -4.150213035426418, -6.705325608810815, 0.7217214627044282, 3.989753157879152, 3.77745444919044, -6.416991738146772, -0.855682443457443, 9.82300420377339, 9.62927377906625, -9.735757862136117, 8.382252418919151, 5.280558427284932, -7.001388425254111, -9.413789524990769, 0.18056502282829, -1.9126256103797026, -0.07275691125416728, -6.3078509504460145, 9.400960746661742, -0.4507951802873489, -2.4190874747575997, 7.211105678524881, -4.4273237071560185, -8.105436575697649, -2.1504570920954684, -2.3696209901108167, -6.539956732646703, -5.008618065532515, 0.7587299211268252, 8.1022374877119, 3.276910274700729, -6.898845562956342, -4.8918877673627215, 7.257455503520212, -4.275729348170927, 3.7368015696692236, -5.684420335881928, -4.201449743829178, 7.008176769954829, 8.0498024221841, -6.654103056373362, -5.633680585649157, -3.6177368139728516, -1.3134237111140834, -7.097952964558565, -3.6198514337826992, -5.002443574666948, -6.089147109799411, -6.691038752118883, -7.292851853855298, -6.4246786145002925, 6.56195483851436, -1.2264280021332414, 2.8907369637691964, -3.013148721059526, 2.9204962190898893, 1.166852383371106, -1.2906100526512638, 5.887356859946864, 7.534105328485985, 7.228330905327645, -0.49584186874549374, 3.5963194137492778, 7.620273216070178, 6.374955007281006, -1.5334200569205692, -4.571686595928634, 1.882860512458553, -1.1700346233282133, 0.3707426950670012, 9.804919734337602, 8.345723681419194, -9.117358978121977, -8.198427957964574, -6.806851969231862, 4.754942689194131, 8.14709658666748, 0.862656043296834, 7.033991425787633, -6.258650408804815, 1.2372256478746628, 0.04513565503539496, 7.33644581921131, -7.69714111973788, -8.135613501352042, 8.968377163056328, 3.6244900807218894, -7.354550637243895, 9.095980556152313, 3.582059236774155, 8.641807761747081, -5.772151828531797, 0.5294069692100951, 7.598698730735876, -4.967465316854646, -0.03893956196152182, 2.213213212468691, 6.423983986199566, 3.681073492247961, 9.29899493992615, -9.704024229068306, -8.374132195762654, -9.460317137780546, -6.961233525941957, 3.9734802977412436, -3.6138969854813308, 7.931888989909098, -2.7553617973751994, -6.131166753812947, 9.865525346756385, 1.006622504037848, -5.1336141221765175, 8.316611252815893, -9.259468825940555, -6.36581760751281, -9.713428099524073, -9.53003997919729, -7.629565192187943, -5.9556199835996, 4.526644832555322, -7.369860339056009, 1.609933316569128, -1.4399800542249537, 7.228553512823975, 3.328958024614767, 1.7160543189252806, -6.961638528626213, 7.626941792917901, 9.335041252383391, 5.283717750655512, -6.469353616718212, -2.3695633638816833, -7.4167268333309, 0.2550321646602587, 5.960808406967232, -4.30215526971097, -7.52333418119929, 1.4520781446708053, -4.057473735129273, 4.7147104532855355, 5.006443516013048, 2.1522252802321127, -1.217394085448058, -5.55764741328548, 5.633609181151213, 2.7788805422142886, -0.106623642428465, 1.3279722834525245, 9.120756769374964, -3.44014453625274, -7.867931949630684, -0.40793666103580506, -1.156430878385299, -9.303669780217493, -1.5477096628933733, 9.331512412057371, 3.893738883136397, 8.491215370462076, 5.451123853670801, 1.6924033126012326, -1.1404146065920813, -1.7972409156273184, -6.558352500993497, 8.895471867204389, 1.0322704763795798, -2.4513527974441622, -5.441447494946939, -4.905532067182321, 4.773791468253815, 0.04313587680818465, -4.537466365552527, -3.6843621844135193, 6.831902227288076, -0.5013921512141284, 9.837892679107153, -9.051045624979386, 2.3392711598254667, 3.4677011792344388, -9.162062151612513, 0.6905360468952804, 2.6972758560712347, -4.026602849759322, -1.3152930507138478, 8.81986540092138, -5.10823438187086, 1.943405325424468, 1.9854669920929435, -9.69473292141653, -5.099813947601555, -2.0143962989904596, -8.549828367850898, 3.789302299526083, -1.1760100334313446, -6.587636800852978, 4.888437567492836, -8.646708368494814, -9.239396064146199, 3.9022261741776703, -8.340418181600292, -4.711023307717522, -7.7439661485774725, 6.834445645849165, 7.691946766827151, 3.7820004545321666, 9.422171150047866, -2.040338970138027, 4.044088841476366, 5.88341958152518, 4.988982114933734, 0.24064315493136412, -5.118649809780793, 0.293918545155325, 6.871066821471615, 3.9060283671454243, 7.4641017913027845, 8.982681338267081, -9.753467983484668, -2.8669765660672013, -1.339805926970584, -7.949186557052901, 8.720254929160912, 2.3842291882829336, 8.053468907662086, 4.570280825920554, 5.533298675842154, 5.3709466637, 7.25266114263335, -4.193378267260435, -1.9309212031324936, -2.6598437523124723, 0.28924174156763627, 7.090518062199422, -8.164503173028692, -4.532498441440838, 8.914508375298666, 9.181573819815188, 2.984420649985191, 5.779563187283314, -5.694612465647902, 0.9921887399163651, -4.182395648938543, -0.4037559199789662, 3.5670746824670037, -7.834103594487319, 1.4072548643315752, -5.946253671451567, -2.047935812517312, 8.71159944880355, -3.802735933218453, -7.211443018765689, -8.555915926602623, 5.494439157241498, 9.656252262693808, -1.3365561169440419, 3.7565437097762366, 7.0300999573517835, -5.882191142862281, -5.113603251830643, 8.61882855571286, 1.963496229573936, 1.6646305168803437, -3.572215515693971, -9.946786066994997, -6.526011251083348, 0.7167073795613774, -9.6505474928541, 6.10899200390368, 5.406668989923739, 4.423482173844048, 5.2735924110327375, 9.497887589929654, 9.656542901779382, -4.212982630337576, -5.251121948255253, 3.828427938052439, -4.843922781896697, -6.369525388163979, 6.187267496141857, 9.66521848376329, 4.164852118957336, 6.860417006746097, -8.26514937513213, 1.173702980334836, -7.546670732896239, -8.354754169092676, -5.224988786103824, -8.55797872210893, 2.2442922910045517, 8.842847482047368, 6.975222746371102, 4.844550208868375, -5.165711713798133, -6.159015334876441, 2.526915681968994, -7.9821240343788125, 9.24792249719653, 9.46246915847772, 9.262824315114017, 2.1473264385495145, -7.111662063848907, -9.524590932520024, 4.372526376156134, -6.220111046001602, -1.247526109756743, 6.1184657375439855, -7.905706255070979, -9.943975244210531, -0.986680247682747, 8.912632074678989, -4.07705815839118, -4.074430955769244, 9.078827886100314, 3.6614550689244822, -4.091187117320747, -5.679390702508343, 4.869765943544184, 4.6909978477550816, 1.6824135728271887, 4.097863790759526, -3.375230250794637, 7.916280085858048, -1.410854391837617, 5.2163530815882595, 5.689993378116334, 6.528555825039074, -0.1004591150765517, 5.360838531444152, -7.479113009720601, -3.263300576244081, -4.309761444876054, 6.497989569323572, -0.15357808294348985, 4.1908391372165, 5.40305094160178, 4.705027768804154, 1.0146888704044148, -3.7708588014193793, 1.0197031295523367, 5.669743166215255, 6.3724836988997104, -0.49454532435609977, -3.4318366980408843, -2.2043358507850597, 7.616773873479094, -1.0291900709244945, -9.470250451557112, 5.301284628385423, -8.45458987077577, 1.4222699975486321, -9.831312937122796, 8.540102465789762, -5.536298798236827, -2.1929654070998446, -7.856651020582928, 0.8381686421658578, -8.691386304759012, 4.4011716485033965, -1.9047218588983768, 8.037684766787446, -7.028917951962878, 5.9279597601737635, 3.4553360906368518, 5.441461641670394, -8.185578357569822, 7.493086508866828, 2.69986443407166, -2.855967629567342, 0.00915200145256101, 2.303517594074071, -2.2202211285681432, -6.8672223680714755, 2.174482544912287, 2.0795288213884646, 3.773764623905267, -0.2170050017380465, -3.9220299246598493, 9.918613991795802, 4.016804934230496, -0.4344091058658517, 4.960789087346445, 3.2715733642886757, -4.9101622889570695, -7.5431294168106255, 7.782416105164, -0.8863563955592539, 1.6706554676635381, 5.59437656484195, -2.3577348898843358, 9.178585590800484, 7.450183400129141, -6.03749730410668, -3.8393474267454764, -8.374603583591698, 3.9507061119996205, 9.164729021630006, -9.097101695003452, -5.774929758324943, -8.79169142817813, -0.5901908042646866, -4.84910434779942, 4.586877030656542, 1.0576223812981578, -9.523267875033865, 3.7609599685145945, 4.733591200668519, 8.391156421112779, -1.5133039075840848, 5.953178740087054, -1.7681114809549303, 2.8289002332525577, 9.286364251935343, -4.772336787251909, -5.249911850101108, 3.1840817414661124, -4.02843946465741, -2.3272403089143445, -1.5985591874126435, 4.768743182141934, -4.258715290526151, 8.08345557777811, -1.48957532273921, 7.733212343193287, 8.597361752053516, 0.29509224428077196, -6.442279595437701, -2.0409900026243877, 4.046764065094976, -6.692189906546073, 2.6811903204202636, 5.006282953035065, -3.156739414729646, -1.0404911365584457, 2.1508690963047634, -7.366284985597273, -4.361506151563455, 6.543984477419041, 4.0168132733465445, 9.666239717397886, -5.825213287682556, 7.710006890559843, -0.08872655399776441, -2.6022144028551235, -7.84042877330315, -2.650914720019859, -3.922756168485635, -6.572371549018728, -6.758691729464362, 0.06384228055205199, 4.498573806218918, 6.01031152180617, -8.326557404599972, -0.8186247599935843, -7.856469419075132, 5.621606930083768, 2.0637551716032583, -1.9093259431621572, 9.214888149190589, -0.6074728159431615, 7.890176444509194, -3.8156425758408163, 1.9480190542185696, -3.7470586888155877, 9.07724822760176, -7.630582556050991, 3.666291104153789, -0.13457142444177173, -3.0937580188793383, -2.662835958642842, 8.938513323606006, -1.7904314998522857, -2.1292419927610347, -3.3112805157783143, -5.608497379078803, 3.7714910680925122, -5.360618479432546, 7.325725743894203, 1.3538356133567895, -5.115225393684481, -0.9738538198069318, 6.622738930148724, -0.508871447833739, -5.535356052143678, 0.5987088423135773, 9.944828738392438, 3.6351954309489294, -7.353122806562363, 5.676905476314985, 6.922843819565429, 6.9729635389455105, 3.9499726748863573, -9.455494011746454, -1.518840795653034, 5.312781066959518, -6.405819114691256, 7.063425061629964, -8.081618984675718, 1.524710865843133, -9.515351318331366, 6.918889306842864, -3.4804961015471303, -7.261625630759097, -5.992296891366944, 7.515904607076248, 4.56444668415142, 1.886225308383711, 8.103157016638448, 3.594251400640845, -7.2237480010061965, 3.3532925661326995, 4.124668152412902, -8.252034666844853, -8.195945056381696, -4.696612861833933, 7.059688874660797, 9.899708050778123, 3.2226557704657885, 7.436884012124658, 1.4091368951113843, 4.817528709453992, -6.592657451289854, 6.219245026518372, -6.225011357153267, -3.737881451765846, 0.7351280487744827, -9.258392064640237, 5.662768553380204, 4.303223427580436, 2.5958957864683363, 8.932242590819982, 1.8418468018261933, 9.428429667922813, -1.023555816680311, 7.1467387807069045, 8.926639002268498, 4.8707823431220305, 8.732185891563311, 7.022760346225237, 5.139065405878643, -5.381728540837891, -6.492185215840824, 4.060651341376754, 7.333969855777063, 9.192067517540313, 5.611026328479184, -0.6804302542606084, -6.700358795762726, -6.263239535625482, -3.454030695103418, 9.530390182061442, 3.038507574533579, 2.4621845929837924, -8.489238751980574, -7.858541026088051, -0.9779871117054135, 0.45757568524289916, 9.840950890575403, 4.585898254711589, 6.033620865686963, 7.823292621157361, 7.625077826816494, 8.439536589147345, -6.577591913754293, 6.950124461888095, 0.0960313667888606, 0.8362047174039766, 3.167255673262762, 9.940033681354357, -4.250605723385279, 2.829004426262296, -0.6815971144972508, 1.5139798192933274, 1.351857218512503, -1.5323303540560946, -8.633452755316815, 4.206966097833542, 0.8330973283824701, -2.5665789585173338, -5.830081975428532, 2.384636189742171, -6.415150558917642, -5.739516639581963, -6.249014801061826, 9.735512798270172, 9.168447076889827, -6.771772585162128, 2.0710366944226006, -0.31636104662625897, -4.930543787913903, 0.9686140967329635, -0.7468220207451726, 0.9321389070674417, -2.1786810572833692, -6.829369963654084, -5.092264113203169, 2.4605548946761004, -3.810135024297967, 9.274875419663886, -9.82451397413528, -7.075713744236365, 3.2034290628255047, 7.240663784205349, -9.61627865936536, 7.5534877058583625, -5.455769928392966, -2.2909979142332926, 1.2486283109463496, 7.6545150502612636, 0.8709667755760115, 5.81558089759362, -1.0584463242224462, -6.263522873397472, -7.715257074693788, 6.978785757943797, -5.413213690241825, -0.30288561200045905, -7.354020351598438, 4.011635048337649, 8.369409513226987, 8.25656610496019, 0.30242537785009205, -4.663273333293678, -8.530055270712671, -1.7991452663934737, -8.449532366942998, -1.5410262351297668, 8.67165846720781, -5.802134371370677, -3.913622112482904, -0.7309642045929987, -1.4175685438685743, -8.052721363464016, 0.18138518603753262, 0.1050143599594211, -5.934414862295599, -1.7990520800033636, 1.9258986114248238, -4.166973675123975, 6.308194629625589, 8.235566470976718, -2.680227959439529, 3.019591754387374, -3.2497345488892098, -4.6090826567771686, 5.712811699625576, -9.081540918872664, 0.47862874808985545, 7.829623034852055, 6.553914191033485, -3.976511622941647, -5.081527174441234, 6.630338444892743, -6.3038711656873, 9.689305431071958, 6.266740966838832, 8.856453236955982, -5.831365759237512, -8.46134166759283, -4.002699834740064, 0.8126094648668136, -7.552469381178857, 4.923986115250772, -2.1142005045244687, 7.103191610895667, -5.298364528825086, -4.495158483891208, 3.228615506149337, 5.245050153105929, 4.048673309763384, 1.5049684981828637, -6.991413151121715, 6.6754361715826995, 6.867117570284947, 1.0975331808252164, 3.954577960158936, -1.6774557331858624, -8.409331875113894, 4.309463628264428, -2.3137163042045117, -8.265389812784056, -7.082885483730321, 9.507146777149526, -5.746059213623862, 2.1011728692113927, 1.9064062561885269, 6.1848652550872565, 5.195623632335817, -2.677643004930614, 7.788410299161622, -6.619036641850626, -3.855976648726256, -1.762484386983541, -6.379904507562124, 1.2597170181911572, -5.395284345013247, 0.7962315445565871, 9.450441994990776, 3.840229141446356, 2.3028683786527964, -6.1483200545864225, -9.003262167401807, -8.680971563630095, -5.71420066999689, -2.581058481990633, -0.8114559357529476, -3.3338099190864074, -2.5616688997462074, -3.258577230045865, -3.550794009170737, 0.34529746903868563, 4.85793934861665, 2.913976397575871, 5.1801074446533875, -9.87663645785, -2.049953472808159, 2.4439630589876256, -9.933453475306703, 7.792291416259314, -6.298724697967904, 9.122840489564236, 9.644756572908022, -6.686574438658212, 3.771477047800717, 6.545919270349835, -1.0428711870537768, 6.0871300116581715, 4.136060596660119, 4.901322268568983, 0.9091147501631731, -6.623353080546288, 6.644462921981013, 9.388297806494108, -6.021292618799512, 6.847742739712523, -3.4314907159423385, 9.436833874461339, 6.8475205012347935, 7.950749427071969, -0.03931877876330425, -4.262916634813909, 7.628545903284881, 5.188352347405743, -8.806039967230575, -2.8209709206143074, 8.558712169373234, 5.640920121521981, 5.874940831589182, 9.043696066683687, -7.866273407767633, -6.068351948946875, -4.377173656649154, -4.3006771226788505, -2.2781924162072613, -1.7508518609664634, -2.9908126450027943, -0.9455796854085836, 5.049454988442852, 6.982954588282183, 5.4578732007535535, -7.851867705928783, 7.638337018895697, 2.7659114223246988, 4.975604813975629, 4.831307949727989, 4.6710639884078, 6.271344763127281, 3.0621947977808635, -2.2436971888737878, 0.39906507425286364, 7.790987784812085, 8.369424280698322, -4.563339288562052, 0.7149768013583113, -8.30036385669333, 1.8562890529280374, 9.902999421429325, 7.200480205466494, -8.199203469868825, -2.272439464882268, 2.070104820589986, -5.424599638905059, 8.583271789460639, -9.76713436481436, 4.929876318269654, 0.6138199763935486, -6.493465273643091, -7.9653844826657805, -7.52189413465805, -5.620668707819785, -5.121426454410612, -9.532393246256376, -9.050599922479083, 0.8499764616340482, 8.755874201458322, -4.488494293666896, -9.130996539844883, 7.129887156546268, 2.6908785038953766, 0.6138487068464631, 7.410569339252639, 9.061253271293246, -5.070695701363038, 8.478048692921249, -9.533168692421516, -7.010772976215696, -7.654782940005422, 2.214860192228322, 6.781940486031736, -1.7752690035287948, 0.1873288401073303, -1.9791345463545262, 8.970479546352731, -7.898291034352239, 5.461580364568379, 8.191158053285875, -0.5639761479950973, -5.4534886036667185, -9.006731664202883, -0.21786989343059737, -2.506727277094793, 3.3845495849999665, -1.3468768729656482, 8.57299749908309, 2.4960870531754757, 8.137446276184857, 5.970214104228283, 7.812286064121054, 0.12079252239088056, 0.12728057972600304, 5.645021682603096, 0.930386909803989, 9.80723897913774, 7.9967735642965465, 8.434114036244004, -1.7708608790777536, 6.813701323853682, 1.400141274985181, -7.42854845488067, -3.416685296433548, -9.797999082114668, 9.988141622705136, 1.1009231963759696, 7.556712016357547, -9.254730524951654, 5.973259109248838, 0.9086027519873561, 1.5625739364091125, -3.345653857836231, -8.591049987768898, 4.414418973239771, -3.6489992508124374, 9.2261953352142, -8.920379789182727, -7.300051696047687, -7.692959490649011, -0.6948085154819914, 1.3422443102530313, 3.345793567606039, 9.250069641653557, 2.1373348906409984, 4.380877837409194, -5.878803136231509, 4.729724273193872, -9.83841309922367, -0.40614068358629396, -2.4866515970000354, -9.791258616920066, 2.274037819503988, -4.752311480958902, -4.756148403036498, -2.7906127073010767, 6.105414662319081, 0.7735874921874437, 8.354159037033394, 1.2950756012051379, -1.8008548654561238, 1.851062656605011, -3.4292369599668753, 6.615698193451006, -6.501944758482825, -1.4782535673740362, 9.160741636611142, -1.4287064416863906, -0.5634540111825501, 5.854403366993333, 5.693947055179072, -3.2918015539517658, 1.4605094148607307, 0.8503247708248285, -4.903819826283373, 0.34822977942643263, -9.395543011026398, 3.2680635760982426, 3.5219320096531384, -7.198564049430518, 9.043288358306725, -2.1456364625837505, -4.514356713498168, 1.4774746572702888, -6.072585234598642, -4.626140637749425, 2.052647318562766, 8.463378625951705, -1.6155088231907975, 9.252555255141754, 4.0466260268791725, -5.704564481346564, -0.9184913117373998, -5.6732458584368795, -7.264634336967653, -3.538450974575964, -0.7846486813453666, 1.5858799671858854, 6.671462433103507, 8.723342116213665, -3.0962058041258462, 6.7580651853251865, -7.922551282881541, -0.4606801300454748, 0.9586488206056849, -5.297224633586401, -0.9813199971974012, 0.6902656417823909, 2.54397285713665, 4.546392717629219, -5.832818607520068, 9.284037613450874, 9.6176706851656, -9.064768306209821, -0.2515078619399791, 3.309011005364278, -6.859687942682173, 3.869786752146007, 9.5070741042638, 5.461460720343139, -2.0705505810193774, -1.8720562228828364, -9.397768401845607, 9.078335519259976, 0.26991901136293706, 7.501458562003567, 1.9394633544480016, 8.178881621712975, 4.62324549099243, 8.869422171508962, -4.003984830739018, 7.911556204084892, -5.53904718252916, -3.2239985908689395, -8.006370275350076, -8.84024998974227, -7.7395815856408845, 7.682015851327002, 8.14733720882366, 9.977834750561886, -9.046732232872305, 7.8876016799367115, 8.109485022231333, 1.2108079088342265, 7.697125874853263, -9.53820024129852, 5.889226314441441, -4.379551728952668, 1.9023586077225616, -0.0645513346533182, 2.8425228334834323, -0.3367066445224687, -1.4406108006722889, -3.7338437555659354, -2.5184902344153066, 2.870512947510944, 8.624144006145258, -9.201872451279895, -0.13167611693487302, -5.5248971259526485, -7.301901518670986, 3.329807009653651, 1.212248077306164, -0.6727946431106311, -1.5286225439791128, -2.7889589471882186, -0.8814003813131208, 0.7543188843301856, -7.9285827776888755]\n",
      "[False, False, True, True, False, True, False, True, True, False, False, False, False, False, False, True, True, False, False, True, True, True, False, False, True, True, False, True, True, False, False, False, False, False, False, True, False, False, True, False, False, False, False, False, False, True, True, True, False, False, True, False, True, False, False, True, True, False, False, False, False, False, False, False, False, False, False, False, True, False, True, False, True, True, False, True, True, True, False, True, True, True, False, False, True, False, False, True, True, False, False, False, True, True, True, True, False, True, False, True, False, False, True, True, False, True, True, True, False, True, True, False, False, True, True, True, True, False, False, False, False, True, False, True, False, False, True, True, False, True, False, False, False, False, False, False, True, False, True, False, True, True, True, False, True, True, True, False, False, False, False, True, False, False, True, False, True, True, True, False, False, True, True, False, True, True, False, False, False, False, False, False, True, True, True, True, True, False, False, False, True, True, False, False, False, True, False, False, False, True, False, True, False, True, True, False, True, True, False, False, True, False, True, True, False, False, False, False, True, False, False, True, False, False, True, False, False, False, True, True, True, True, False, True, True, True, False, False, False, True, True, True, True, False, False, False, False, True, True, True, True, True, True, True, False, False, False, False, True, False, False, True, True, True, True, False, True, False, False, True, False, True, False, False, True, False, False, False, True, True, False, True, True, False, False, True, True, True, False, False, False, True, False, True, True, True, True, True, True, False, False, True, False, False, True, True, True, True, False, True, False, False, False, False, True, True, True, True, False, False, True, False, True, True, True, True, False, False, True, False, False, True, False, False, False, True, False, False, True, True, False, False, True, True, True, True, False, True, False, True, True, True, False, True, False, False, False, True, False, True, True, True, True, False, True, True, True, False, False, False, True, False, False, True, False, True, False, True, False, False, False, True, False, True, False, True, False, True, True, True, False, True, True, False, False, True, False, False, True, True, True, False, False, True, True, False, True, True, False, False, True, False, True, True, False, True, True, False, False, False, True, True, False, False, False, False, False, True, True, False, True, True, True, False, True, False, True, True, False, False, True, False, False, False, True, False, True, False, True, True, False, False, False, True, False, True, True, False, False, True, False, False, True, True, True, False, True, False, False, False, False, False, False, False, False, True, True, False, False, False, True, True, False, True, False, True, False, True, False, True, False, True, False, False, False, True, False, False, False, False, True, False, True, True, False, False, True, False, False, True, True, True, False, True, True, True, True, False, False, True, False, True, False, True, False, True, False, False, False, True, True, True, True, True, False, True, True, False, False, False, True, True, True, True, True, True, False, True, False, False, True, False, True, True, True, True, True, True, False, True, True, True, True, True, True, False, False, True, True, True, True, False, False, False, False, True, True, True, False, False, False, False, True, True, True, True, True, True, False, True, False, True, True, True, False, True, False, True, True, False, False, True, True, False, False, True, False, False, False, True, True, False, True, False, False, True, False, True, False, False, False, True, False, True, False, False, True, True, False, True, False, False, True, True, True, True, False, False, False, True, False, False, False, True, True, True, False, False, False, False, False, False, True, False, False, False, False, False, False, False, False, False, True, False, True, True, False, True, False, False, True, False, False, True, True, False, False, True, False, True, True, True, False, False, False, True, False, True, False, True, False, False, True, True, True, True, False, True, True, True, True, False, False, True, False, False, False, True, False, True, True, True, True, False, True, False, False, False, False, True, False, True, True, True, True, False, False, False, False, False, False, False, False, False, False, False, True, True, True, False, False, True, False, True, False, True, True, False, True, True, False, True, True, True, True, False, True, True, False, True, False, True, True, True, False, False, True, True, False, False, True, True, True, True, False, False, False, False, False, False, False, False, True, True, True, False, True, True, True, True, True, True, True, False, False, True, True, False, True, False, True, True, True, False, False, True, False, True, False, True, True, False, False, False, False, False, False, False, True, True, False, False, True, True, True, True, True, False, True, False, False, False, True, True, False, False, False, True, False, True, True, False, False, False, False, False, True, False, True, True, True, True, True, False, False, True, True, True, True, True, False, True, True, False, False, False, True, True, True, False, True, True, True, False, False, True, False, True, False, False, False, False, True, True, True, True, True, False, True, False, False, False, False, True, False, False, False, True, True, True, True, False, True, False, True, False, False, True, False, False, True, True, False, True, True, False, False, False, True, True, False, True, False, False, True, False, False, True, True, False, True, True, False, False, False, False, False, False, True, True, True, False, True, False, False, True, False, False, True, True, True, False, True, True, False, False, True, False, True, True, True, False, False, False, True, False, True, True, True, True, True, False, True, False, False, False, False, False, True, True, True, False, True, True, True, True, False, True, False, True, False, True, False, False, False, False, True, True, False, False, False, False, True, True, False, False, False, False, True, False]\n"
     ]
    }
   ],
   "source": [
    "# Test your solution here\n",
    "result = where(data, lambda x: x > 0.5)\n",
    "print(data)\n",
    "print(result)"
   ]
  },
  {
   "cell_type": "markdown",
   "metadata": {},
   "source": [
    "*Exercise 6:* The `inrange(mymin,mymax)` function below returns a function that tests if it's input is between the specified values. Write corresponding functions that test:\n",
    "* Even\n",
    "* Odd\n",
    "* Greater than\n",
    "* Less than\n",
    "* Equal\n",
    "* Divisible by"
   ]
  },
  {
   "cell_type": "code",
   "execution_count": null,
   "metadata": {},
   "outputs": [],
   "source": [
    "def in_range(mymin,mymax):\n",
    "    def testrange(x):\n",
    "        return x<mymax and x>=mymin\n",
    "    return testrange\n",
    "\n",
    "# Examples:\n",
    "F1=inrange(0,10)\n",
    "F2=inrange(10,20)\n",
    "\n",
    "# Test of in_range\n",
    "print (F1(0), F1(1), F1(10), F1(15), F1(20))\n",
    "print (F2(0), F2(1), F2(10), F2(15), F2(20))\n",
    "\n",
    "print (\"Number of Entries passing F1:\", len(where(data,F1)))\n",
    "print (\"Number of Entries passing F2:\", len(where(data,F2)))"
   ]
  },
  {
   "cell_type": "code",
   "execution_count": null,
   "metadata": {},
   "outputs": [],
   "source": [
    "### BEGIN SOLUTION\n",
    "\n",
    "    # Fill in your solution here        \n",
    "    \n",
    "### END SOLUTION"
   ]
  },
  {
   "cell_type": "code",
   "execution_count": null,
   "metadata": {},
   "outputs": [],
   "source": [
    "# Test your solution"
   ]
  },
  {
   "cell_type": "markdown",
   "metadata": {},
   "source": [
    "*Exercise 7:* Repeat the previous exercise using `lambda` and the built-in python functions sum and map instead of your solution above. "
   ]
  },
  {
   "cell_type": "code",
   "execution_count": null,
   "metadata": {},
   "outputs": [],
   "source": [
    "### BEGIN SOLUTION\n",
    "\n",
    "    # Fill in your solution here        \n",
    "    \n",
    "### END SOLUTION"
   ]
  },
  {
   "cell_type": "markdown",
   "metadata": {},
   "source": [
    "## Monte Carlo\n",
    "\n",
    "*Exercise 7:* Write a \"generator\" function called `generate_function(func,x_min,x_max,N)`, that instead of generating a flat distribution, generates a distribution with functional form coded in `func`. Note that `func` will always be > 0.  \n",
    "\n",
    "Use the test function below and your histogramming functions above to demonstrate that your generator is working properly.\n",
    "\n",
    "Hint: A simple, but slow, solution is to a draw random number `test_x` within the specified range and another number `p` between the `min` and `max` of the function (which you will have to determine). If `p<=function(test_x)`, then place `test_x` on the output. If not, repeat the process, drawing two new numbers. Repeat until you have the specified number of generated numbers, `N`. For this problem, it's OK to determine the `min` and `max` by numerically sampling the function.  "
   ]
  },
  {
   "cell_type": "code",
   "execution_count": null,
   "metadata": {},
   "outputs": [],
   "source": [
    "def generate_function(func,x_min,x_max,N=1000):\n",
    "    out = list()\n",
    "    ### BEGIN SOLUTION\n",
    "\n",
    "    # Fill in your solution here        \n",
    "    \n",
    "    ### END SOLUTION\n",
    "    \n",
    "    return out"
   ]
  },
  {
   "cell_type": "code",
   "execution_count": null,
   "metadata": {},
   "outputs": [],
   "source": [
    "# A test function\n",
    "def test_func(x,a=1,b=1):\n",
    "    return abs(a*x+b)"
   ]
  },
  {
   "cell_type": "markdown",
   "metadata": {},
   "source": [
    "*Exercise 8:* Use your function to generate 1000 numbers that are normal distributed, using the `gaussian` function below. Confirm the mean and variance of the data is close to the mean and variance you specify when building the Gaussian. Histogram the data. "
   ]
  },
  {
   "cell_type": "code",
   "execution_count": null,
   "metadata": {},
   "outputs": [],
   "source": [
    "import math\n",
    "\n",
    "def gaussian(mean, sigma):\n",
    "    def f(x):\n",
    "        return math.exp(-((x-mean)**2)/(2*sigma**2))/math.sqrt(math.pi*sigma)\n",
    "    return f\n",
    "\n",
    "# Example Instantiation\n",
    "g1=gaussian(0,1)\n",
    "g2=gaussian(10,3)"
   ]
  },
  {
   "cell_type": "markdown",
   "metadata": {},
   "source": [
    "*Exercise 9:* Combine your `generate_function`, `where`, and `in_range` functions above to create an integrate function. Use your integrate function to show that approximately 68% of Normal distribution is within one variance."
   ]
  },
  {
   "cell_type": "code",
   "execution_count": null,
   "metadata": {},
   "outputs": [],
   "source": [
    "def integrate(func, x_min, x_max, n_points=1000):\n",
    "    \n",
    "    return integral"
   ]
  },
  {
   "cell_type": "code",
   "execution_count": null,
   "metadata": {},
   "outputs": [],
   "source": []
  }
 ],
 "metadata": {
  "kernelspec": {
   "display_name": "Python 3 (ipykernel)",
   "language": "python",
   "name": "python3"
  },
  "language_info": {
   "codemirror_mode": {
    "name": "ipython",
    "version": 3
   },
   "file_extension": ".py",
   "mimetype": "text/x-python",
   "name": "python",
   "nbconvert_exporter": "python",
   "pygments_lexer": "ipython3",
   "version": "3.8.10"
  }
 },
 "nbformat": 4,
 "nbformat_minor": 4
}
