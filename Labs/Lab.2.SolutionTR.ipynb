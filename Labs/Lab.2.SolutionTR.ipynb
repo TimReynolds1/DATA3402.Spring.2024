{
 "cells": [
  {
   "cell_type": "markdown",
   "metadata": {},
   "source": [
    "## Lab 2- Tic Tac Toe\n",
    "\n",
    "In this lab your will build a n x n Tic Tac Toe game. As you do the exercises, make sure your solutions work for any size Tic Tac Toe game. "
   ]
  },
  {
   "cell_type": "markdown",
   "metadata": {},
   "source": [
    "*Exercise 1:* Write a function that creates an n by n matrix (of list of lists) which will represent the state of a Tie Tac Toe game. Let 0, 1, and 2 represent empty, \"X\", and \"O\", respectively.\n"
   ]
  },
  {
   "cell_type": "code",
   "execution_count": 113,
   "metadata": {},
   "outputs": [],
   "source": [
    "player_1 = \"X\"\n",
    "player_2 = \"O\"\n",
    "empty = 0\n",
    "# Game Board Size\n",
    "size = 5\n",
    "\n",
    "def get_size():\n",
    "    return size\n",
    "\n",
    "def make_game_board(size=size):\n",
    "    #Make an empty board\n",
    "    board=[[empty]*size for i in range(size)]\n",
    "    return board"
   ]
  },
  {
   "cell_type": "code",
   "execution_count": 114,
   "metadata": {},
   "outputs": [
    {
     "data": {
      "text/plain": [
       "[[0, 0, 0, 0, 0],\n",
       " [0, 0, 0, 0, 0],\n",
       " [0, 0, 0, 0, 0],\n",
       " [0, 0, 0, 0, 0],\n",
       " [0, 0, 0, 0, 0]]"
      ]
     },
     "execution_count": 114,
     "metadata": {},
     "output_type": "execute_result"
    }
   ],
   "source": [
    "make_game_board()"
   ]
  },
  {
   "cell_type": "markdown",
   "metadata": {},
   "source": [
    "*Exercise 2:* Write a function that takes 2 integers `n` and `m` as input and draws a `n` by `m` game board. For example the following is a 3x3 board:\n",
    "```\n",
    "   --- --- --- \n",
    "  |   |   |   | \n",
    "   --- --- ---  \n",
    "  |   |   |   | \n",
    "   --- --- ---  \n",
    "  |   |   |   | \n",
    "   --- --- --- \n",
    "   ```"
   ]
  },
  {
   "cell_type": "code",
   "execution_count": 115,
   "metadata": {},
   "outputs": [],
   "source": [
    "def draw_game_board(n,m):\n",
    "    for i in range(n):\n",
    "        print(' ---' * m)\n",
    "        print('|   ' * (m+1))\n",
    "    print(' ---' * m)\n",
    "n = 3\n",
    "m = 3"
   ]
  },
  {
   "cell_type": "code",
   "execution_count": 116,
   "metadata": {},
   "outputs": [
    {
     "name": "stdout",
     "output_type": "stream",
     "text": [
      " --- --- ---\n",
      "|   |   |   |   \n",
      " --- --- ---\n",
      "|   |   |   |   \n",
      " --- --- ---\n",
      "|   |   |   |   \n",
      " --- --- ---\n"
     ]
    }
   ],
   "source": [
    "draw_game_board(n,m)"
   ]
  },
  {
   "cell_type": "markdown",
   "metadata": {},
   "source": [
    "*Exercise 3:* Modify exercise 2, so that it takes a matrix of the form from exercise 1 and draws a tic-tac-tie board with \"X\"s and \"O\"s.  "
   ]
  },
  {
   "cell_type": "code",
   "execution_count": 117,
   "metadata": {},
   "outputs": [],
   "source": [
    "player_1 = \"X\"\n",
    "player_2 = \"O\"\n",
    "empty = 0\n",
    "\n",
    "def draw_game_board(matrix):\n",
    "    for row in matrix:\n",
    "        print(' ---' * len(row))\n",
    "        print('|', end='')\n",
    "        for cell in row:\n",
    "            if cell == player_1:\n",
    "                print(f' {player_1} |', end='')\n",
    "            elif cell == player_2:\n",
    "                print(f' {player_2} |', end='')\n",
    "            else:\n",
    "                print('   |', end='')\n",
    "        print()\n",
    "    print(' ---' * len(matrix[0]))\n",
    "n = 5\n",
    "m = 5\n",
    "matrix = [[empty] * m for _ in range(n)]\n",
    "matrix[0][1] = player_1\n",
    "matrix[2][3] = player_2\n",
    "matrix[4][2] = player_1"
   ]
  },
  {
   "cell_type": "code",
   "execution_count": 118,
   "metadata": {},
   "outputs": [
    {
     "name": "stdout",
     "output_type": "stream",
     "text": [
      " --- --- --- --- ---\n",
      "|   | X |   |   |   |\n",
      " --- --- --- --- ---\n",
      "|   |   |   |   |   |\n",
      " --- --- --- --- ---\n",
      "|   |   |   | O |   |\n",
      " --- --- --- --- ---\n",
      "|   |   |   |   |   |\n",
      " --- --- --- --- ---\n",
      "|   |   | X |   |   |\n",
      " --- --- --- --- ---\n"
     ]
    }
   ],
   "source": [
    "draw_game_board(matrix)"
   ]
  },
  {
   "cell_type": "markdown",
   "metadata": {},
   "source": [
    "*Exercise 4:* Write a function that takes a `n` by `n` matrix representing a tic-tac-toe game, and returns -1, 0, 1, or 2 indicating the game is incomplete, the game is a draw, player 1 has won, or player 2 has one, respectively. Here are some example inputs you can use to test your code:"
   ]
  },
  {
   "cell_type": "code",
   "execution_count": 119,
   "metadata": {},
   "outputs": [],
   "source": [
    "def game_continue(matrix):\n",
    "    n = len(matrix)\n",
    "\n",
    "    def check_winner(player):\n",
    "        for i in range(n):\n",
    "            if all(matrix[i][j] == player for j in range(n)) or all(matrix[j][i] == player for j in range(n)):\n",
    "                return True\n",
    "                \n",
    "        if all(matrix[i][i] == player for i in range(n)) or all(matrix[i][n - i - 1] == player for i in range(n)):\n",
    "            return True\n",
    "        return False\n",
    "\n",
    "    if check_winner('X'):\n",
    "        return 1\n",
    "    elif check_winner('O'):\n",
    "        return 2\n",
    "\n",
    "    for row in matrix:\n",
    "        if 0 in row: #Incomplete Game\n",
    "            return -1\n",
    "\n",
    "\n",
    "    return 0"
   ]
  },
  {
   "cell_type": "code",
   "execution_count": 120,
   "metadata": {},
   "outputs": [
    {
     "name": "stdout",
     "output_type": "stream",
     "text": [
      " --- --- --- --- ---\n",
      "| X | X | X | X | X |\n",
      " --- --- --- --- ---\n",
      "| X |   |   |   | O |\n",
      " --- --- --- --- ---\n",
      "|   |   |   | O | O |\n",
      " --- --- --- --- ---\n",
      "|   |   |   |   |   |\n",
      " --- --- --- --- ---\n",
      "|   |   | X |   | O |\n",
      " --- --- --- --- ---\n"
     ]
    },
    {
     "data": {
      "text/plain": [
       "1"
      ]
     },
     "execution_count": 120,
     "metadata": {},
     "output_type": "execute_result"
    }
   ],
   "source": [
    "matrix[0][1] = player_1\n",
    "matrix[2][3] = player_2\n",
    "matrix[4][2] = player_1\n",
    "matrix[0][2] = player_1\n",
    "matrix[2][4] = player_2\n",
    "matrix[0][3] = player_1\n",
    "matrix[0][4] = player_1\n",
    "matrix[1][4] = player_2\n",
    "matrix[1][0] = player_1\n",
    "matrix[4][4] = player_2\n",
    "matrix[0][0] = player_1\n",
    "draw_game_board(matrix)\n",
    "game_continue(matrix)"
   ]
  },
  {
   "cell_type": "code",
   "execution_count": 121,
   "metadata": {},
   "outputs": [],
   "source": [
    "winner_is_2 = [[2, 2, 0],\n",
    "\t[2, 1, 0],\n",
    "\t[2, 1, 1]]\n",
    "\n",
    "winner_is_1 = [[1, 2, 0],\n",
    "\t[2, 1, 0],\n",
    "\t[2, 1, 1]]\n",
    "\n",
    "winner_is_also_1 = [[0, 1, 0],\n",
    "\t[2, 1, 0],\n",
    "\t[2, 1, 1]]\n",
    "\n",
    "no_winner = [[1, 2, 0],\n",
    "\t[2, 1, 0],\n",
    "\t[2, 1, 2]]\n",
    "\n",
    "also_no_winner = [[1, 2, 0],\n",
    "\t[2, 1, 0],\n",
    "\t[2, 1, 0]]"
   ]
  },
  {
   "cell_type": "markdown",
   "metadata": {},
   "source": [
    "*Exercise 5:* Write a function that takes a game board, player number, and `(x,y)` coordinates and places \"X\" or \"O\" in the correct location of the game board. Make sure that you only allow filling previously empty locations. Return `True` or `False` to indicate successful placement of \"X\" or \"O\"."
   ]
  },
  {
   "cell_type": "code",
   "execution_count": 122,
   "metadata": {},
   "outputs": [],
   "source": [
    "def place_piece(matrix, player, x, y):\n",
    "    if 0 <= x < len(matrix) and 0 <= y < len(matrix[0]):\n",
    "        if matrix[x][y] == 0:\n",
    "            matrix[x][y] = 'X' if player == 1 else 'O'\n",
    "            draw_game_board(matrix)\n",
    "            return True\n",
    "        else:\n",
    "            print(\"Error, please choose a different spot.\")\n",
    "            return False\n",
    "    else:\n",
    "        print(\"Outside of gameboard? Trying to cheat?\\nGet outta Here!\")\n",
    "        return False\n",
    "    \n",
    "def clear_matrix(matrix, size): #Adding this function so that I can clear the game board.\n",
    "    matrix.clear()\n",
    "    matrix.extend([[0] * size for _ in range(size)])"
   ]
  },
  {
   "cell_type": "code",
   "execution_count": 123,
   "metadata": {},
   "outputs": [
    {
     "name": "stdout",
     "output_type": "stream",
     "text": [
      " --- --- --- --- ---\n",
      "|   |   |   |   |   |\n",
      " --- --- --- --- ---\n",
      "|   |   |   |   |   |\n",
      " --- --- --- --- ---\n",
      "|   |   |   |   |   |\n",
      " --- --- --- --- ---\n",
      "|   |   |   |   |   |\n",
      " --- --- --- --- ---\n",
      "|   |   |   |   |   |\n",
      " --- --- --- --- ---\n",
      " --- --- --- --- ---\n",
      "| X |   |   |   |   |\n",
      " --- --- --- --- ---\n",
      "|   |   |   |   |   |\n",
      " --- --- --- --- ---\n",
      "|   |   |   |   |   |\n",
      " --- --- --- --- ---\n",
      "|   |   |   |   |   |\n",
      " --- --- --- --- ---\n",
      "|   |   |   |   |   |\n",
      " --- --- --- --- ---\n",
      " --- --- --- --- ---\n",
      "| X |   |   |   |   |\n",
      " --- --- --- --- ---\n",
      "| O |   |   |   |   |\n",
      " --- --- --- --- ---\n",
      "|   |   |   |   |   |\n",
      " --- --- --- --- ---\n",
      "|   |   |   |   |   |\n",
      " --- --- --- --- ---\n",
      "|   |   |   |   |   |\n",
      " --- --- --- --- ---\n",
      "Outside of gameboard? Trying to cheat?\n",
      "Get outta Here!\n",
      " --- --- --- --- ---\n",
      "| X |   |   |   |   |\n",
      " --- --- --- --- ---\n",
      "| O |   |   |   |   |\n",
      " --- --- --- --- ---\n",
      "|   |   | O |   |   |\n",
      " --- --- --- --- ---\n",
      "|   |   |   |   |   |\n",
      " --- --- --- --- ---\n",
      "|   |   |   |   |   |\n",
      " --- --- --- --- ---\n"
     ]
    },
    {
     "data": {
      "text/plain": [
       "True"
      ]
     },
     "execution_count": 123,
     "metadata": {},
     "output_type": "execute_result"
    }
   ],
   "source": [
    "clear_matrix(matrix,5)\n",
    "draw_game_board(matrix)\n",
    "place_piece(matrix, 1,0,0)\n",
    "place_piece(matrix, 0,1,0)\n",
    "place_piece(matrix, 1,5,0)\n",
    "place_piece(matrix, 0,2,2)"
   ]
  },
  {
   "cell_type": "markdown",
   "metadata": {},
   "source": [
    "*Exercise 6:* Modify Exercise 4 to show column and row labels so that players can specify location using \"A2\" or \"C1\"."
   ]
  },
  {
   "cell_type": "code",
   "execution_count": 124,
   "metadata": {},
   "outputs": [],
   "source": [
    "def draw_game_board(matrix):\n",
    "    column_labels = \"ABCDEFGHIJKLMNOPQRSTUVWXYZ\"\n",
    "    header_line = f\"  {'   '.join(column_labels[:len(matrix[0])])}\"\n",
    "    print(header_line)\n",
    "\n",
    "    for i, row in enumerate(matrix):\n",
    "        print(f\"{i+1:2d}|\", end='')\n",
    "\n",
    "        for cell in row:\n",
    "            if cell == player_1:\n",
    "                print(f' {player_1} |', end='')\n",
    "            elif cell == player_2:\n",
    "                print(f' {player_2} |', end='')\n",
    "            else:\n",
    "                print('   |', end='')\n",
    "        print('\\n  ' + ' ---' * len(row))\n"
   ]
  },
  {
   "cell_type": "code",
   "execution_count": 125,
   "metadata": {},
   "outputs": [
    {
     "name": "stdout",
     "output_type": "stream",
     "text": [
      "  A   B   C   D   E\n",
      " 1| X |   |   |   |   |\n",
      "   --- --- --- --- ---\n",
      " 2| O |   |   |   |   |\n",
      "   --- --- --- --- ---\n",
      " 3|   |   | O |   |   |\n",
      "   --- --- --- --- ---\n",
      " 4|   |   |   |   |   |\n",
      "   --- --- --- --- ---\n",
      " 5|   |   |   |   |   |\n",
      "   --- --- --- --- ---\n"
     ]
    }
   ],
   "source": [
    "draw_game_board(matrix)"
   ]
  },
  {
   "cell_type": "markdown",
   "metadata": {},
   "source": [
    "*Exercise 7:* Write a function that takes a board, player number, and location specified as in exercise 6 and then calls exercise 5 to correctly modify the board.  "
   ]
  },
  {
   "cell_type": "code",
   "execution_count": 126,
   "metadata": {},
   "outputs": [],
   "source": [
    "def draw_game_board(matrix):\n",
    "    column_labels = \"ABCDEFGHIJKLMNOPQRSTUVWXYZ\"\n",
    "    header_line = f\"  {'   '.join(column_labels[:len(matrix[0])])}\"\n",
    "    print(header_line)\n",
    "\n",
    "    for i, row in enumerate(matrix):\n",
    "        print(f\"{i+1:2d}|\", end='')\n",
    "\n",
    "        for cell in row:\n",
    "            if cell == player_1:\n",
    "                print(f' {player_1} |', end='')\n",
    "            elif cell == player_2:\n",
    "                print(f' {player_2} |', end='')\n",
    "            else:\n",
    "                print('   |', end='')\n",
    "        print('\\n  ' + ' ---' * len(row))\n",
    "\n",
    "def clear_matrix(matrix, size=None):\n",
    "    if size is None:\n",
    "        size = len(matrix)\n",
    "    matrix.clear()\n",
    "    matrix.extend([[0] * size for _ in range(size)])\n",
    "    \n",
    "def place_piece(matrix, player, location): \n",
    "    try:\n",
    "        column_label, row_label = location[:-1].upper(), int(location[-1]) - 1\n",
    "        column_index = ord(column_label) - ord('A')\n",
    "\n",
    "        if 0 <= column_index < len(matrix[0]) and 0 <= row_label < len(matrix):\n",
    "            if matrix[row_label][column_index] == 0:\n",
    "                matrix[row_label][column_index] = 'X' if player == 1 else 'O'\n",
    "                draw_game_board(matrix)\n",
    "                return True\n",
    "            else:\n",
    "                print(\"Error, please choose a different spot.\")\n",
    "                return False\n",
    "        else:\n",
    "            print(\"Invalid position. Please use valid column labels (A, B, C, ...) and row numbers.\")\n",
    "            return False\n",
    "    except (ValueError, IndexError):\n",
    "        print(\"Invalid position format. Please use valid column labels (A, B, C, ...) and row numbers.\")\n",
    "        return False\n"
   ]
  },
  {
   "cell_type": "code",
   "execution_count": 127,
   "metadata": {},
   "outputs": [
    {
     "name": "stdout",
     "output_type": "stream",
     "text": [
      "  A   B   C   D   E\n",
      " 1| X |   |   |   |   |\n",
      "   --- --- --- --- ---\n",
      " 2| O |   |   |   |   |\n",
      "   --- --- --- --- ---\n",
      " 3|   |   | O |   |   |\n",
      "   --- --- --- --- ---\n",
      " 4|   |   |   |   |   |\n",
      "   --- --- --- --- ---\n",
      " 5|   |   |   |   |   |\n",
      "   --- --- --- --- ---\n",
      "  A   B   C   D   E\n",
      " 1|   |   |   |   |   |\n",
      "   --- --- --- --- ---\n",
      " 2|   |   |   |   |   |\n",
      "   --- --- --- --- ---\n",
      " 3|   |   |   |   |   |\n",
      "   --- --- --- --- ---\n",
      " 4|   |   |   |   |   |\n",
      "   --- --- --- --- ---\n",
      " 5|   |   |   |   |   |\n",
      "   --- --- --- --- ---\n",
      "  A   B   C   D   E\n",
      " 1|   |   |   |   |   |\n",
      "   --- --- --- --- ---\n",
      " 2| O |   |   |   |   |\n",
      "   --- --- --- --- ---\n",
      " 3|   |   |   |   |   |\n",
      "   --- --- --- --- ---\n",
      " 4|   |   |   |   |   |\n",
      "   --- --- --- --- ---\n",
      " 5|   |   |   |   |   |\n",
      "   --- --- --- --- ---\n"
     ]
    },
    {
     "data": {
      "text/plain": [
       "True"
      ]
     },
     "execution_count": 127,
     "metadata": {},
     "output_type": "execute_result"
    }
   ],
   "source": [
    "draw_game_board(matrix)\n",
    "clear_matrix(matrix)\n",
    "draw_game_board(matrix)\n",
    "place_piece(matrix, 2, 'A2')"
   ]
  },
  {
   "cell_type": "markdown",
   "metadata": {},
   "source": [
    "*Exercise 8:* Write a function is called with a board and player number, takes input from the player using python's `input`, and modifies the board using your function from exercise 7. Note that you should keep asking for input until you have gotten a valid input that results in a valid move."
   ]
  },
  {
   "cell_type": "code",
   "execution_count": 128,
   "metadata": {},
   "outputs": [],
   "source": [
    "def take_player_input(matrix, player):\n",
    "    while True:\n",
    "        location = input(f\"Player {player}, enter your move (e.g., A2): \").upper()\n",
    "\n",
    "        if len(location) == 2 and 'A' <= location[0] <= 'Z' and '1' <= location[1] <= '9':\n",
    "            column_label, row_label = location[0], int(location[1]) - 1\n",
    "            column_index = ord(column_label) - ord('A')\n",
    "\n",
    "            if 0 <= column_index < len(matrix[0]) and 0 <= row_label < len(matrix):\n",
    "                if matrix[row_label][column_index] == 0:\n",
    "                    matrix[row_label][column_index] = 'X' if player == 1 else 'O'\n",
    "                    draw_game_board(matrix)\n",
    "                    return matrix\n",
    "                else:\n",
    "                    print(\"Error, please choose a different spot.\")\n",
    "            else:\n",
    "                print(\"Invalid position. Please use valid column labels (A, B, C, ...) and row numbers.\")\n",
    "        else:\n",
    "            print(\"Invalid input. Please enter a valid move.\")\n"
   ]
  },
  {
   "cell_type": "code",
   "execution_count": 130,
   "metadata": {},
   "outputs": [
    {
     "name": "stdout",
     "output_type": "stream",
     "text": [
      "  A   B   C   D   E\n",
      " 1|   |   |   |   |   |\n",
      "   --- --- --- --- ---\n",
      " 2|   |   |   |   |   |\n",
      "   --- --- --- --- ---\n",
      " 3|   |   |   |   |   |\n",
      "   --- --- --- --- ---\n",
      " 4|   |   |   |   |   |\n",
      "   --- --- --- --- ---\n",
      " 5|   |   |   |   |   |\n",
      "   --- --- --- --- ---\n"
     ]
    },
    {
     "name": "stdin",
     "output_type": "stream",
     "text": [
      "Player 1, enter your move (e.g., A2):  A3\n"
     ]
    },
    {
     "name": "stdout",
     "output_type": "stream",
     "text": [
      "  A   B   C   D   E\n",
      " 1|   |   |   |   |   |\n",
      "   --- --- --- --- ---\n",
      " 2|   |   |   |   |   |\n",
      "   --- --- --- --- ---\n",
      " 3| X |   |   |   |   |\n",
      "   --- --- --- --- ---\n",
      " 4|   |   |   |   |   |\n",
      "   --- --- --- --- ---\n",
      " 5|   |   |   |   |   |\n",
      "   --- --- --- --- ---\n"
     ]
    },
    {
     "data": {
      "text/plain": [
       "[[0, 0, 0, 0, 0],\n",
       " [0, 0, 0, 0, 0],\n",
       " ['X', 0, 0, 0, 0],\n",
       " [0, 0, 0, 0, 0],\n",
       " [0, 0, 0, 0, 0]]"
      ]
     },
     "execution_count": 130,
     "metadata": {},
     "output_type": "execute_result"
    }
   ],
   "source": [
    "clear_matrix(matrix)\n",
    "draw_game_board(matrix)\n",
    "take_player_input(matrix, 1)"
   ]
  },
  {
   "cell_type": "markdown",
   "metadata": {},
   "source": [
    "*Exercise 9:* Use all of the previous exercises to implement a full tic-tac-toe game, where an appropriate board is drawn, 2 players are repeatedly asked for a location coordinates of where they wish to place a mark, and the game status is checked until a player wins or a draw occurs."
   ]
  },
  {
   "cell_type": "code",
   "execution_count": 155,
   "metadata": {},
   "outputs": [],
   "source": [
    "def game_start():\n",
    "    player_1 = \"X\"\n",
    "    player_2 = \"O\"\n",
    "    empty = 0\n",
    "\n",
    "    def draw_game_board(matrix):\n",
    "        column_labels = \"ABCDEFGHIJKLMNOPQRSTUVWXYZ\"\n",
    "        header_line = f\"  {'   '.join(column_labels[:len(matrix[0])])}\"\n",
    "        print(header_line)\n",
    "\n",
    "        for i, row in enumerate(matrix):\n",
    "            print(f\"{i+1:2d}|\", end='')\n",
    "\n",
    "            for cell in row:\n",
    "                if cell == player_1:\n",
    "                    print(f' {player_1} |', end='')\n",
    "                elif cell == player_2:\n",
    "                    print(f' {player_2} |', end='')\n",
    "                else:\n",
    "                    print('   |', end='')\n",
    "            print('\\n  ' + ' ---' * len(row))\n",
    "\n",
    "    def clear_matrix(matrix, size=None):\n",
    "        if size is None:\n",
    "            size = len(matrix)\n",
    "        matrix.clear()\n",
    "        matrix.extend([[0] * size for _ in range(size)])\n",
    "\n",
    "    def place_piece(matrix, player, location):\n",
    "        try:\n",
    "            column_label, row_label = location[:-1].upper(), int(location[-1]) - 1\n",
    "            column_index = ord(column_label) - ord('A')\n",
    "\n",
    "            if 0 <= column_index < len(matrix[0]) and 0 <= row_label < len(matrix):\n",
    "                if matrix[row_label][column_index] == 0:\n",
    "                    matrix[row_label][column_index] = 'X' if player == player_1 else 'O'\n",
    "                    draw_game_board(matrix)\n",
    "                    return True\n",
    "                else:\n",
    "                    print(\"Error, please choose a different spot.\")\n",
    "                    return False\n",
    "            else:\n",
    "                print(\"Invalid position. Please use valid column labels (A, B, C, ...) and row numbers.\")\n",
    "                return False\n",
    "        except (ValueError, IndexError):\n",
    "            print(\"Invalid position format. Please use valid column labels (A, B, C, ...) and row numbers.\")\n",
    "            return False\n",
    "\n",
    "    def game_continue(matrix):\n",
    "        n = len(matrix)\n",
    "\n",
    "        def check_winner(player):\n",
    "            for i in range(n):\n",
    "                if all(matrix[i][j] == player for j in range(n)) or all(matrix[j][i] == player for j in range(n)):\n",
    "                    return True\n",
    "\n",
    "            if all(matrix[i][i] == player for i in range(n)) or all(matrix[i][n - i - 1] == player for i in range(n)):\n",
    "                return True\n",
    "\n",
    "            return False\n",
    "\n",
    "        if check_winner(player_1):\n",
    "            return 1\n",
    "        elif check_winner(player_2):\n",
    "            return 2\n",
    "\n",
    "        # Check for a draw\n",
    "        if all(cell != 0 for row in matrix for cell in row):\n",
    "            return -1\n",
    "\n",
    "        return 0\n",
    "\n",
    "    def take_player_input(matrix, player):\n",
    "        while True:\n",
    "            location = input(f\"Player {player}, enter your move (e.g., A2): \").upper()\n",
    "\n",
    "            if len(location) == 2 and 'A' <= location[0] <= 'Z' and '1' <= location[1] <= '9':\n",
    "                column_label, row_label = location[0], int(location[1]) - 1\n",
    "                column_index = ord(column_label) - ord('A')\n",
    "\n",
    "                if 0 <= column_index < len(matrix[0]) and 0 <= row_label < len(matrix):\n",
    "                    if matrix[row_label][column_index] == 0:\n",
    "                        matrix[row_label][column_index] = 'X' if player == player_1 else 'O'\n",
    "                        draw_game_board(matrix)\n",
    "                        return matrix\n",
    "                    else:\n",
    "                        print(\"Error, please choose a different spot.\")\n",
    "                else:\n",
    "                    print(\"Invalid position. Please use valid column labels (A, B, C, ...) and row numbers.\")\n",
    "            else:\n",
    "                print(\"Invalid input. Please enter a valid move.\")\n",
    "\n",
    "    matrix = []  \n",
    "    clear_matrix(matrix, 3)  \n",
    "\n",
    "    current_player = player_1  \n",
    "\n",
    "    while game_continue(matrix) == 0:\n",
    "        draw_game_board(matrix)\n",
    "        take_player_input(matrix, current_player)\n",
    "        current_player = player_2 if current_player == player_1 else player_1\n",
    "\n",
    "    \n",
    "    result = game_continue(matrix)\n",
    "    if result == 1:\n",
    "        print(\"Player 1 (X) wins!\")\n",
    "    elif result == 2:\n",
    "        print(\"Player 2 (O) wins!\")\n",
    "    else:\n",
    "        print(\"It's a draw!\")"
   ]
  },
  {
   "cell_type": "code",
   "execution_count": 156,
   "metadata": {},
   "outputs": [
    {
     "name": "stdout",
     "output_type": "stream",
     "text": [
      "  A   B   C\n",
      " 1|   |   |   |\n",
      "   --- --- ---\n",
      " 2|   |   |   |\n",
      "   --- --- ---\n",
      " 3|   |   |   |\n",
      "   --- --- ---\n"
     ]
    },
    {
     "name": "stdin",
     "output_type": "stream",
     "text": [
      "Player X, enter your move (e.g., A2):  A1\n"
     ]
    },
    {
     "name": "stdout",
     "output_type": "stream",
     "text": [
      "  A   B   C\n",
      " 1| X |   |   |\n",
      "   --- --- ---\n",
      " 2|   |   |   |\n",
      "   --- --- ---\n",
      " 3|   |   |   |\n",
      "   --- --- ---\n",
      "  A   B   C\n",
      " 1| X |   |   |\n",
      "   --- --- ---\n",
      " 2|   |   |   |\n",
      "   --- --- ---\n",
      " 3|   |   |   |\n",
      "   --- --- ---\n"
     ]
    },
    {
     "name": "stdin",
     "output_type": "stream",
     "text": [
      "Player O, enter your move (e.g., A2):  B1\n"
     ]
    },
    {
     "name": "stdout",
     "output_type": "stream",
     "text": [
      "  A   B   C\n",
      " 1| X | O |   |\n",
      "   --- --- ---\n",
      " 2|   |   |   |\n",
      "   --- --- ---\n",
      " 3|   |   |   |\n",
      "   --- --- ---\n",
      "  A   B   C\n",
      " 1| X | O |   |\n",
      "   --- --- ---\n",
      " 2|   |   |   |\n",
      "   --- --- ---\n",
      " 3|   |   |   |\n",
      "   --- --- ---\n"
     ]
    },
    {
     "name": "stdin",
     "output_type": "stream",
     "text": [
      "Player X, enter your move (e.g., A2):  A2\n"
     ]
    },
    {
     "name": "stdout",
     "output_type": "stream",
     "text": [
      "  A   B   C\n",
      " 1| X | O |   |\n",
      "   --- --- ---\n",
      " 2| X |   |   |\n",
      "   --- --- ---\n",
      " 3|   |   |   |\n",
      "   --- --- ---\n",
      "  A   B   C\n",
      " 1| X | O |   |\n",
      "   --- --- ---\n",
      " 2| X |   |   |\n",
      "   --- --- ---\n",
      " 3|   |   |   |\n",
      "   --- --- ---\n"
     ]
    },
    {
     "name": "stdin",
     "output_type": "stream",
     "text": [
      "Player O, enter your move (e.g., A2):  B2\n"
     ]
    },
    {
     "name": "stdout",
     "output_type": "stream",
     "text": [
      "  A   B   C\n",
      " 1| X | O |   |\n",
      "   --- --- ---\n",
      " 2| X | O |   |\n",
      "   --- --- ---\n",
      " 3|   |   |   |\n",
      "   --- --- ---\n",
      "  A   B   C\n",
      " 1| X | O |   |\n",
      "   --- --- ---\n",
      " 2| X | O |   |\n",
      "   --- --- ---\n",
      " 3|   |   |   |\n",
      "   --- --- ---\n"
     ]
    },
    {
     "name": "stdin",
     "output_type": "stream",
     "text": [
      "Player X, enter your move (e.g., A2):  A3\n"
     ]
    },
    {
     "name": "stdout",
     "output_type": "stream",
     "text": [
      "  A   B   C\n",
      " 1| X | O |   |\n",
      "   --- --- ---\n",
      " 2| X | O |   |\n",
      "   --- --- ---\n",
      " 3| X |   |   |\n",
      "   --- --- ---\n",
      "Player 1 (X) wins!\n"
     ]
    }
   ],
   "source": [
    "game_start()"
   ]
  },
  {
   "cell_type": "markdown",
   "metadata": {},
   "source": [
    "*Exercise 10:* Test that your game works for 5x5 Tic Tac Toe.  "
   ]
  },
  {
   "cell_type": "code",
   "execution_count": 157,
   "metadata": {},
   "outputs": [],
   "source": [
    "def game_start():\n",
    "    player_1 = \"X\"\n",
    "    player_2 = \"O\"\n",
    "    empty = 0\n",
    "\n",
    "    def draw_game_board(matrix):\n",
    "        column_labels = \"ABCDEFGHIJKLMNOPQRSTUVWXYZ\"\n",
    "        header_line = f\"  {'   '.join(column_labels[:len(matrix[0])])}\"\n",
    "        print(header_line)\n",
    "\n",
    "        for i, row in enumerate(matrix):\n",
    "            print(f\"{i+1:2d}|\", end='')\n",
    "\n",
    "            for cell in row:\n",
    "                if cell == player_1:\n",
    "                    print(f' {player_1} |', end='')\n",
    "                elif cell == player_2:\n",
    "                    print(f' {player_2} |', end='')\n",
    "                else:\n",
    "                    print('   |', end='')\n",
    "            print('\\n  ' + ' ---' * len(row))\n",
    "\n",
    "    def clear_matrix(matrix, size=None):\n",
    "        if size is None:\n",
    "            size = len(matrix)\n",
    "        matrix.clear()\n",
    "        matrix.extend([[0] * size for _ in range(size)])\n",
    "\n",
    "    def place_piece(matrix, player, location):\n",
    "        try:\n",
    "            column_label, row_label = location[:-1].upper(), int(location[-1]) - 1\n",
    "            column_index = ord(column_label) - ord('A')\n",
    "\n",
    "            if 0 <= column_index < len(matrix[0]) and 0 <= row_label < len(matrix):\n",
    "                if matrix[row_label][column_index] == 0:\n",
    "                    matrix[row_label][column_index] = 'X' if player == player_1 else 'O'\n",
    "                    draw_game_board(matrix)\n",
    "                    return True\n",
    "                else:\n",
    "                    print(\"Error, please choose a different spot.\")\n",
    "                    return False\n",
    "            else:\n",
    "                print(\"Invalid position. Please use valid column labels (A, B, C, ...) and row numbers.\")\n",
    "                return False\n",
    "        except (ValueError, IndexError):\n",
    "            print(\"Invalid position format. Please use valid column labels (A, B, C, ...) and row numbers.\")\n",
    "            return False\n",
    "\n",
    "    def game_continue(matrix):\n",
    "        n = len(matrix)\n",
    "\n",
    "        def check_winner(player):\n",
    "            for i in range(n):\n",
    "                if all(matrix[i][j] == player for j in range(n)) or all(matrix[j][i] == player for j in range(n)):\n",
    "                    return True\n",
    "\n",
    "            if all(matrix[i][i] == player for i in range(n)) or all(matrix[i][n - i - 1] == player for i in range(n)):\n",
    "                return True\n",
    "\n",
    "            return False\n",
    "\n",
    "        if check_winner(player_1):\n",
    "            return 1\n",
    "        elif check_winner(player_2):\n",
    "            return 2\n",
    "\n",
    "        \n",
    "        if all(cell != 0 for row in matrix for cell in row):\n",
    "            return -1\n",
    "\n",
    "        return 0\n",
    "\n",
    "    def take_player_input(matrix, player):\n",
    "        while True:\n",
    "            location = input(f\"Player {player}, enter your move (e.g., A2): \").upper()\n",
    "\n",
    "            if len(location) == 2 and 'A' <= location[0] <= 'Z' and '1' <= location[1] <= '9':\n",
    "                column_label, row_label = location[0], int(location[1]) - 1\n",
    "                column_index = ord(column_label) - ord('A')\n",
    "\n",
    "                if 0 <= column_index < len(matrix[0]) and 0 <= row_label < len(matrix):\n",
    "                    if matrix[row_label][column_index] == 0:\n",
    "                        matrix[row_label][column_index] = 'X' if player == player_1 else 'O'\n",
    "                        draw_game_board(matrix)\n",
    "                        return matrix\n",
    "                    else:\n",
    "                        print(\"Error, please choose a different spot.\")\n",
    "                else:\n",
    "                    print(\"Invalid position. Please use valid column labels (A, B, C, ...) and row numbers.\")\n",
    "            else:\n",
    "                print(\"Invalid input. Please enter a valid move.\")\n",
    "\n",
    "    matrix = []  \n",
    "    clear_matrix(matrix, 5)  \n",
    "\n",
    "    current_player = player_1  \n",
    "\n",
    "    while game_continue(matrix) == 0:\n",
    "        draw_game_board(matrix)\n",
    "        take_player_input(matrix, current_player)\n",
    "        current_player = player_2 if current_player == player_1 else player_1\n",
    "\n",
    "    \n",
    "    result = game_continue(matrix)\n",
    "    if result == 1:\n",
    "        print(\"Player 1 (X) wins!\")\n",
    "    elif result == 2:\n",
    "        print(\"Player 2 (O) wins!\")\n",
    "    else:\n",
    "        print(\"It's a draw!\")"
   ]
  },
  {
   "cell_type": "code",
   "execution_count": 158,
   "metadata": {},
   "outputs": [
    {
     "name": "stdout",
     "output_type": "stream",
     "text": [
      "  A   B   C   D   E\n",
      " 1|   |   |   |   |   |\n",
      "   --- --- --- --- ---\n",
      " 2|   |   |   |   |   |\n",
      "   --- --- --- --- ---\n",
      " 3|   |   |   |   |   |\n",
      "   --- --- --- --- ---\n",
      " 4|   |   |   |   |   |\n",
      "   --- --- --- --- ---\n",
      " 5|   |   |   |   |   |\n",
      "   --- --- --- --- ---\n"
     ]
    },
    {
     "name": "stdin",
     "output_type": "stream",
     "text": [
      "Player X, enter your move (e.g., A2):  A1\n"
     ]
    },
    {
     "name": "stdout",
     "output_type": "stream",
     "text": [
      "  A   B   C   D   E\n",
      " 1| X |   |   |   |   |\n",
      "   --- --- --- --- ---\n",
      " 2|   |   |   |   |   |\n",
      "   --- --- --- --- ---\n",
      " 3|   |   |   |   |   |\n",
      "   --- --- --- --- ---\n",
      " 4|   |   |   |   |   |\n",
      "   --- --- --- --- ---\n",
      " 5|   |   |   |   |   |\n",
      "   --- --- --- --- ---\n",
      "  A   B   C   D   E\n",
      " 1| X |   |   |   |   |\n",
      "   --- --- --- --- ---\n",
      " 2|   |   |   |   |   |\n",
      "   --- --- --- --- ---\n",
      " 3|   |   |   |   |   |\n",
      "   --- --- --- --- ---\n",
      " 4|   |   |   |   |   |\n",
      "   --- --- --- --- ---\n",
      " 5|   |   |   |   |   |\n",
      "   --- --- --- --- ---\n"
     ]
    },
    {
     "name": "stdin",
     "output_type": "stream",
     "text": [
      "Player O, enter your move (e.g., A2):  B2\n"
     ]
    },
    {
     "name": "stdout",
     "output_type": "stream",
     "text": [
      "  A   B   C   D   E\n",
      " 1| X |   |   |   |   |\n",
      "   --- --- --- --- ---\n",
      " 2|   | O |   |   |   |\n",
      "   --- --- --- --- ---\n",
      " 3|   |   |   |   |   |\n",
      "   --- --- --- --- ---\n",
      " 4|   |   |   |   |   |\n",
      "   --- --- --- --- ---\n",
      " 5|   |   |   |   |   |\n",
      "   --- --- --- --- ---\n",
      "  A   B   C   D   E\n",
      " 1| X |   |   |   |   |\n",
      "   --- --- --- --- ---\n",
      " 2|   | O |   |   |   |\n",
      "   --- --- --- --- ---\n",
      " 3|   |   |   |   |   |\n",
      "   --- --- --- --- ---\n",
      " 4|   |   |   |   |   |\n",
      "   --- --- --- --- ---\n",
      " 5|   |   |   |   |   |\n",
      "   --- --- --- --- ---\n"
     ]
    },
    {
     "name": "stdin",
     "output_type": "stream",
     "text": [
      "Player X, enter your move (e.g., A2):  A2\n"
     ]
    },
    {
     "name": "stdout",
     "output_type": "stream",
     "text": [
      "  A   B   C   D   E\n",
      " 1| X |   |   |   |   |\n",
      "   --- --- --- --- ---\n",
      " 2| X | O |   |   |   |\n",
      "   --- --- --- --- ---\n",
      " 3|   |   |   |   |   |\n",
      "   --- --- --- --- ---\n",
      " 4|   |   |   |   |   |\n",
      "   --- --- --- --- ---\n",
      " 5|   |   |   |   |   |\n",
      "   --- --- --- --- ---\n",
      "  A   B   C   D   E\n",
      " 1| X |   |   |   |   |\n",
      "   --- --- --- --- ---\n",
      " 2| X | O |   |   |   |\n",
      "   --- --- --- --- ---\n",
      " 3|   |   |   |   |   |\n",
      "   --- --- --- --- ---\n",
      " 4|   |   |   |   |   |\n",
      "   --- --- --- --- ---\n",
      " 5|   |   |   |   |   |\n",
      "   --- --- --- --- ---\n"
     ]
    },
    {
     "name": "stdin",
     "output_type": "stream",
     "text": [
      "Player O, enter your move (e.g., A2):  B1\n"
     ]
    },
    {
     "name": "stdout",
     "output_type": "stream",
     "text": [
      "  A   B   C   D   E\n",
      " 1| X | O |   |   |   |\n",
      "   --- --- --- --- ---\n",
      " 2| X | O |   |   |   |\n",
      "   --- --- --- --- ---\n",
      " 3|   |   |   |   |   |\n",
      "   --- --- --- --- ---\n",
      " 4|   |   |   |   |   |\n",
      "   --- --- --- --- ---\n",
      " 5|   |   |   |   |   |\n",
      "   --- --- --- --- ---\n",
      "  A   B   C   D   E\n",
      " 1| X | O |   |   |   |\n",
      "   --- --- --- --- ---\n",
      " 2| X | O |   |   |   |\n",
      "   --- --- --- --- ---\n",
      " 3|   |   |   |   |   |\n",
      "   --- --- --- --- ---\n",
      " 4|   |   |   |   |   |\n",
      "   --- --- --- --- ---\n",
      " 5|   |   |   |   |   |\n",
      "   --- --- --- --- ---\n"
     ]
    },
    {
     "name": "stdin",
     "output_type": "stream",
     "text": [
      "Player X, enter your move (e.g., A2):  A3\n"
     ]
    },
    {
     "name": "stdout",
     "output_type": "stream",
     "text": [
      "  A   B   C   D   E\n",
      " 1| X | O |   |   |   |\n",
      "   --- --- --- --- ---\n",
      " 2| X | O |   |   |   |\n",
      "   --- --- --- --- ---\n",
      " 3| X |   |   |   |   |\n",
      "   --- --- --- --- ---\n",
      " 4|   |   |   |   |   |\n",
      "   --- --- --- --- ---\n",
      " 5|   |   |   |   |   |\n",
      "   --- --- --- --- ---\n",
      "  A   B   C   D   E\n",
      " 1| X | O |   |   |   |\n",
      "   --- --- --- --- ---\n",
      " 2| X | O |   |   |   |\n",
      "   --- --- --- --- ---\n",
      " 3| X |   |   |   |   |\n",
      "   --- --- --- --- ---\n",
      " 4|   |   |   |   |   |\n",
      "   --- --- --- --- ---\n",
      " 5|   |   |   |   |   |\n",
      "   --- --- --- --- ---\n"
     ]
    },
    {
     "name": "stdin",
     "output_type": "stream",
     "text": [
      "Player O, enter your move (e.g., A2):  B3\n"
     ]
    },
    {
     "name": "stdout",
     "output_type": "stream",
     "text": [
      "  A   B   C   D   E\n",
      " 1| X | O |   |   |   |\n",
      "   --- --- --- --- ---\n",
      " 2| X | O |   |   |   |\n",
      "   --- --- --- --- ---\n",
      " 3| X | O |   |   |   |\n",
      "   --- --- --- --- ---\n",
      " 4|   |   |   |   |   |\n",
      "   --- --- --- --- ---\n",
      " 5|   |   |   |   |   |\n",
      "   --- --- --- --- ---\n",
      "  A   B   C   D   E\n",
      " 1| X | O |   |   |   |\n",
      "   --- --- --- --- ---\n",
      " 2| X | O |   |   |   |\n",
      "   --- --- --- --- ---\n",
      " 3| X | O |   |   |   |\n",
      "   --- --- --- --- ---\n",
      " 4|   |   |   |   |   |\n",
      "   --- --- --- --- ---\n",
      " 5|   |   |   |   |   |\n",
      "   --- --- --- --- ---\n"
     ]
    },
    {
     "name": "stdin",
     "output_type": "stream",
     "text": [
      "Player X, enter your move (e.g., A2):  A4\n"
     ]
    },
    {
     "name": "stdout",
     "output_type": "stream",
     "text": [
      "  A   B   C   D   E\n",
      " 1| X | O |   |   |   |\n",
      "   --- --- --- --- ---\n",
      " 2| X | O |   |   |   |\n",
      "   --- --- --- --- ---\n",
      " 3| X | O |   |   |   |\n",
      "   --- --- --- --- ---\n",
      " 4| X |   |   |   |   |\n",
      "   --- --- --- --- ---\n",
      " 5|   |   |   |   |   |\n",
      "   --- --- --- --- ---\n",
      "  A   B   C   D   E\n",
      " 1| X | O |   |   |   |\n",
      "   --- --- --- --- ---\n",
      " 2| X | O |   |   |   |\n",
      "   --- --- --- --- ---\n",
      " 3| X | O |   |   |   |\n",
      "   --- --- --- --- ---\n",
      " 4| X |   |   |   |   |\n",
      "   --- --- --- --- ---\n",
      " 5|   |   |   |   |   |\n",
      "   --- --- --- --- ---\n"
     ]
    },
    {
     "name": "stdin",
     "output_type": "stream",
     "text": [
      "Player O, enter your move (e.g., A2):  C2\n"
     ]
    },
    {
     "name": "stdout",
     "output_type": "stream",
     "text": [
      "  A   B   C   D   E\n",
      " 1| X | O |   |   |   |\n",
      "   --- --- --- --- ---\n",
      " 2| X | O | O |   |   |\n",
      "   --- --- --- --- ---\n",
      " 3| X | O |   |   |   |\n",
      "   --- --- --- --- ---\n",
      " 4| X |   |   |   |   |\n",
      "   --- --- --- --- ---\n",
      " 5|   |   |   |   |   |\n",
      "   --- --- --- --- ---\n",
      "  A   B   C   D   E\n",
      " 1| X | O |   |   |   |\n",
      "   --- --- --- --- ---\n",
      " 2| X | O | O |   |   |\n",
      "   --- --- --- --- ---\n",
      " 3| X | O |   |   |   |\n",
      "   --- --- --- --- ---\n",
      " 4| X |   |   |   |   |\n",
      "   --- --- --- --- ---\n",
      " 5|   |   |   |   |   |\n",
      "   --- --- --- --- ---\n"
     ]
    },
    {
     "name": "stdin",
     "output_type": "stream",
     "text": [
      "Player X, enter your move (e.g., A2):  A5\n"
     ]
    },
    {
     "name": "stdout",
     "output_type": "stream",
     "text": [
      "  A   B   C   D   E\n",
      " 1| X | O |   |   |   |\n",
      "   --- --- --- --- ---\n",
      " 2| X | O | O |   |   |\n",
      "   --- --- --- --- ---\n",
      " 3| X | O |   |   |   |\n",
      "   --- --- --- --- ---\n",
      " 4| X |   |   |   |   |\n",
      "   --- --- --- --- ---\n",
      " 5| X |   |   |   |   |\n",
      "   --- --- --- --- ---\n",
      "Player 1 (X) wins!\n"
     ]
    }
   ],
   "source": [
    "game_start()"
   ]
  },
  {
   "cell_type": "markdown",
   "metadata": {},
   "source": [
    "*Exercise 11:* (Advanced / Challenge) Develop a version of the game where one player is the computer. Note that you don't need to do an extensive seach for the best move. You can have the computer simply protect against loosing and otherwise try to win with straight or diagonal patterns."
   ]
  },
  {
   "cell_type": "code",
   "execution_count": null,
   "metadata": {
    "collapsed": true,
    "jupyter": {
     "outputs_hidden": true
    }
   },
   "outputs": [],
   "source": [
    "# Write you solution here"
   ]
  },
  {
   "cell_type": "code",
   "execution_count": null,
   "metadata": {
    "collapsed": true,
    "jupyter": {
     "outputs_hidden": true
    }
   },
   "outputs": [],
   "source": [
    "# Test your solution here"
   ]
  }
 ],
 "metadata": {
  "kernelspec": {
   "display_name": "Python 3 (ipykernel)",
   "language": "python",
   "name": "python3"
  },
  "language_info": {
   "codemirror_mode": {
    "name": "ipython",
    "version": 3
   },
   "file_extension": ".py",
   "mimetype": "text/x-python",
   "name": "python",
   "nbconvert_exporter": "python",
   "pygments_lexer": "ipython3",
   "version": "3.8.10"
  }
 },
 "nbformat": 4,
 "nbformat_minor": 4
}
